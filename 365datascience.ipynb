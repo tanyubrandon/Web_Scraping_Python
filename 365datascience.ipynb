{
 "cells": [
  {
   "cell_type": "code",
   "execution_count": 1,
   "id": "c6c644fd",
   "metadata": {},
   "outputs": [],
   "source": [
    "base_url = \"https://api.exchangerate.host/latest\""
   ]
  },
  {
   "cell_type": "code",
   "execution_count": 2,
   "id": "aed79130",
   "metadata": {},
   "outputs": [
    {
     "data": {
      "text/plain": [
       "True"
      ]
     },
     "execution_count": 2,
     "metadata": {},
     "output_type": "execute_result"
    }
   ],
   "source": [
    "import requests\n",
    "\n",
    "response = requests.get(base_url)\n",
    "\n",
    "response.ok"
   ]
  },
  {
   "cell_type": "code",
   "execution_count": 3,
   "id": "19e8592a",
   "metadata": {},
   "outputs": [
    {
     "data": {
      "text/plain": [
       "200"
      ]
     },
     "execution_count": 3,
     "metadata": {},
     "output_type": "execute_result"
    }
   ],
   "source": [
    "response.status_code"
   ]
  },
  {
   "cell_type": "markdown",
   "id": "3811782d",
   "metadata": {},
   "source": [
    "# Handling Jason"
   ]
  },
  {
   "cell_type": "code",
   "execution_count": 4,
   "id": "a07f9aa8",
   "metadata": {},
   "outputs": [
    {
     "data": {
      "text/plain": [
       "{'motd': {'msg': 'If you or your company use this project or like what we doing, please consider backing us so we can continue maintaining and evolving this project.',\n",
       "  'url': 'https://exchangerate.host/#/donate'},\n",
       " 'success': True,\n",
       " 'base': 'EUR',\n",
       " 'date': '2022-11-18',\n",
       " 'rates': {'AED': 3.807805,\n",
       "  'AFN': 91.708906,\n",
       "  'ALL': 117.079329,\n",
       "  'AMD': 409.091749,\n",
       "  'ANG': 1.864068,\n",
       "  'AOA': 524.732186,\n",
       "  'ARS': 168.74089,\n",
       "  'AUD': 1.546407,\n",
       "  'AWG': 1.86953,\n",
       "  'AZN': 1.763129,\n",
       "  'BAM': 1.956654,\n",
       "  'BBD': 2.073793,\n",
       "  'BDT': 106.536433,\n",
       "  'BGN': 1.952851,\n",
       "  'BHD': 0.391929,\n",
       "  'BIF': 2140.384782,\n",
       "  'BMD': 1.037393,\n",
       "  'BND': 1.423364,\n",
       "  'BOB': 7.147042,\n",
       "  'BRL': 5.622734,\n",
       "  'BSD': 1.037449,\n",
       "  'BTC': 6.2e-05,\n",
       "  'BTN': 84.401888,\n",
       "  'BWP': 13.450073,\n",
       "  'BYN': 2.612257,\n",
       "  'BZD': 2.085346,\n",
       "  'CAD': 1.381207,\n",
       "  'CDF': 2125.441691,\n",
       "  'CHF': 0.986952,\n",
       "  'CLF': 0.035724,\n",
       "  'CLP': 955.4292,\n",
       "  'CNH': 7.398441,\n",
       "  'CNY': 7.38905,\n",
       "  'COP': 5111.643923,\n",
       "  'CRC': 631.877548,\n",
       "  'CUC': 1.037362,\n",
       "  'CUP': 26.692858,\n",
       "  'CVE': 110.91594,\n",
       "  'CZK': 24.399473,\n",
       "  'DJF': 184.124678,\n",
       "  'DKK': 7.436266,\n",
       "  'DOP': 56.337505,\n",
       "  'DZD': 143.956074,\n",
       "  'EGP': 25.407816,\n",
       "  'ERN': 15.549989,\n",
       "  'ETB': 55.242168,\n",
       "  'EUR': 1,\n",
       "  'FJD': 2.308232,\n",
       "  'FKP': 0.872674,\n",
       "  'GBP': 0.871964,\n",
       "  'GEL': 2.819626,\n",
       "  'GGP': 0.872782,\n",
       "  'GHS': 14.997785,\n",
       "  'GIP': 0.872115,\n",
       "  'GMD': 63.802691,\n",
       "  'GNF': 8909.845222,\n",
       "  'GTQ': 8.074442,\n",
       "  'GYD': 216.3988,\n",
       "  'HKD': 8.110509,\n",
       "  'HNL': 25.561051,\n",
       "  'HRK': 7.542284,\n",
       "  'HTG': 141.698989,\n",
       "  'HUF': 411.3998,\n",
       "  'IDR': 16253.594785,\n",
       "  'ILS': 3.602475,\n",
       "  'IMP': 0.872612,\n",
       "  'INR': 84.617512,\n",
       "  'IQD': 1509.606576,\n",
       "  'IRR': 43899.740658,\n",
       "  'ISK': 148.886295,\n",
       "  'JEP': 0.872067,\n",
       "  'JMD': 159.258835,\n",
       "  'JOD': 0.735747,\n",
       "  'JPY': 145.033045,\n",
       "  'KES': 126.185212,\n",
       "  'KGS': 87.150347,\n",
       "  'KHR': 4281.982687,\n",
       "  'KMF': 493.419053,\n",
       "  'KPW': 932.934786,\n",
       "  'KRW': 1390.808354,\n",
       "  'KWD': 0.319103,\n",
       "  'KYD': 0.86257,\n",
       "  'KZT': 473.991195,\n",
       "  'LAK': 17885.228322,\n",
       "  'LBP': 1564.054431,\n",
       "  'LKR': 380.107229,\n",
       "  'LRD': 159.635962,\n",
       "  'LSL': 18.062615,\n",
       "  'LYD': 5.058332,\n",
       "  'MAD': 11.087006,\n",
       "  'MDL': 19.807165,\n",
       "  'MGA': 4444.789938,\n",
       "  'MKD': 61.596149,\n",
       "  'MMK': 2172.008183,\n",
       "  'MNT': 3531.638735,\n",
       "  'MOP': 8.339308,\n",
       "  'MRU': 39.334346,\n",
       "  'MUR': 45.299509,\n",
       "  'MVR': 15.97451,\n",
       "  'MWK': 1061.632071,\n",
       "  'MXN': 20.126409,\n",
       "  'MYR': 4.720862,\n",
       "  'MZN': 66.187044,\n",
       "  'NAD': 18.006451,\n",
       "  'NGN': 456.13727,\n",
       "  'NIO': 37.228941,\n",
       "  'NOK': 10.487977,\n",
       "  'NPR': 135.02995,\n",
       "  'NZD': 1.683284,\n",
       "  'OMR': 0.399164,\n",
       "  'PAB': 1.037758,\n",
       "  'PEN': 3.965978,\n",
       "  'PGK': 3.645185,\n",
       "  'PHP': 59.369324,\n",
       "  'PKR': 230.259797,\n",
       "  'PLN': 4.70864,\n",
       "  'PYG': 7381.741779,\n",
       "  'QAR': 3.773637,\n",
       "  'RON': 4.928128,\n",
       "  'RSD': 117.281548,\n",
       "  'RUB': 62.626891,\n",
       "  'RWF': 1088.337807,\n",
       "  'SAR': 3.897282,\n",
       "  'SBD': 8.532226,\n",
       "  'SCR': 14.065206,\n",
       "  'SDG': 589.304338,\n",
       "  'SEK': 10.986418,\n",
       "  'SGD': 1.425185,\n",
       "  'SHP': 0.872142,\n",
       "  'SLL': 18311.426998,\n",
       "  'SOS': 587.987294,\n",
       "  'SRD': 31.580809,\n",
       "  'SSP': 135.026821,\n",
       "  'STD': 23659.203634,\n",
       "  'STN': 24.671325,\n",
       "  'SVC': 9.051079,\n",
       "  'SYP': 2604.473264,\n",
       "  'SZL': 18.061076,\n",
       "  'THB': 37.152524,\n",
       "  'TJS': 10.42705,\n",
       "  'TMT': 3.639319,\n",
       "  'TND': 3.280708,\n",
       "  'TOP': 2.460418,\n",
       "  'TRY': 19.282428,\n",
       "  'TTD': 7.020968,\n",
       "  'TWD': 32.256615,\n",
       "  'TZS': 2411.943448,\n",
       "  'UAH': 38.184636,\n",
       "  'UGX': 3868.332728,\n",
       "  'USD': 1.037797,\n",
       "  'UYU': 41.248074,\n",
       "  'UZS': 11592.735173,\n",
       "  'VES': 9.762613,\n",
       "  'VND': 25709.170235,\n",
       "  'VUV': 126.733329,\n",
       "  'WST': 2.897414,\n",
       "  'XAF': 655.843323,\n",
       "  'XAG': 0.049526,\n",
       "  'XAU': 0.00189,\n",
       "  'XCD': 2.801721,\n",
       "  'XDR': 0.771176,\n",
       "  'XOF': 655.843149,\n",
       "  'XPD': 0.001285,\n",
       "  'XPF': 119.311961,\n",
       "  'XPT': 0.001982,\n",
       "  'YER': 259.278216,\n",
       "  'ZAR': 18.000026,\n",
       "  'ZMW': 17.195277,\n",
       "  'ZWL': 333.783465}}"
      ]
     },
     "execution_count": 4,
     "metadata": {},
     "output_type": "execute_result"
    }
   ],
   "source": [
    "response.json()\n"
   ]
  },
  {
   "cell_type": "code",
   "execution_count": 5,
   "id": "4019b3a7",
   "metadata": {},
   "outputs": [
    {
     "data": {
      "text/plain": [
       "dict"
      ]
     },
     "execution_count": 5,
     "metadata": {},
     "output_type": "execute_result"
    }
   ],
   "source": [
    "type(response.json())"
   ]
  },
  {
   "cell_type": "code",
   "execution_count": 6,
   "id": "d9abd7bc",
   "metadata": {},
   "outputs": [],
   "source": [
    "import json"
   ]
  },
  {
   "cell_type": "code",
   "execution_count": 7,
   "id": "e1fe0ac2",
   "metadata": {},
   "outputs": [
    {
     "data": {
      "text/plain": [
       "'{\\n  \"motd\": {\\n    \"msg\": \"If you or your company use this project or like what we doing, please consider backing us so we can continue maintaining and evolving this project.\",\\n    \"url\": \"https://exchangerate.host/#/donate\"\\n  },\\n  \"success\": true,\\n  \"base\": \"EUR\",\\n  \"date\": \"2022-11-18\",\\n  \"rates\": {\\n    \"AED\": 3.807805,\\n    \"AFN\": 91.708906,\\n    \"ALL\": 117.079329,\\n    \"AMD\": 409.091749,\\n    \"ANG\": 1.864068,\\n    \"AOA\": 524.732186,\\n    \"ARS\": 168.74089,\\n    \"AUD\": 1.546407,\\n    \"AWG\": 1.86953,\\n    \"AZN\": 1.763129,\\n    \"BAM\": 1.956654,\\n    \"BBD\": 2.073793,\\n    \"BDT\": 106.536433,\\n    \"BGN\": 1.952851,\\n    \"BHD\": 0.391929,\\n    \"BIF\": 2140.384782,\\n    \"BMD\": 1.037393,\\n    \"BND\": 1.423364,\\n    \"BOB\": 7.147042,\\n    \"BRL\": 5.622734,\\n    \"BSD\": 1.037449,\\n    \"BTC\": 6.2e-05,\\n    \"BTN\": 84.401888,\\n    \"BWP\": 13.450073,\\n    \"BYN\": 2.612257,\\n    \"BZD\": 2.085346,\\n    \"CAD\": 1.381207,\\n    \"CDF\": 2125.441691,\\n    \"CHF\": 0.986952,\\n    \"CLF\": 0.035724,\\n    \"CLP\": 955.4292,\\n    \"CNH\": 7.398441,\\n    \"CNY\": 7.38905,\\n    \"COP\": 5111.643923,\\n    \"CRC\": 631.877548,\\n    \"CUC\": 1.037362,\\n    \"CUP\": 26.692858,\\n    \"CVE\": 110.91594,\\n    \"CZK\": 24.399473,\\n    \"DJF\": 184.124678,\\n    \"DKK\": 7.436266,\\n    \"DOP\": 56.337505,\\n    \"DZD\": 143.956074,\\n    \"EGP\": 25.407816,\\n    \"ERN\": 15.549989,\\n    \"ETB\": 55.242168,\\n    \"EUR\": 1,\\n    \"FJD\": 2.308232,\\n    \"FKP\": 0.872674,\\n    \"GBP\": 0.871964,\\n    \"GEL\": 2.819626,\\n    \"GGP\": 0.872782,\\n    \"GHS\": 14.997785,\\n    \"GIP\": 0.872115,\\n    \"GMD\": 63.802691,\\n    \"GNF\": 8909.845222,\\n    \"GTQ\": 8.074442,\\n    \"GYD\": 216.3988,\\n    \"HKD\": 8.110509,\\n    \"HNL\": 25.561051,\\n    \"HRK\": 7.542284,\\n    \"HTG\": 141.698989,\\n    \"HUF\": 411.3998,\\n    \"IDR\": 16253.594785,\\n    \"ILS\": 3.602475,\\n    \"IMP\": 0.872612,\\n    \"INR\": 84.617512,\\n    \"IQD\": 1509.606576,\\n    \"IRR\": 43899.740658,\\n    \"ISK\": 148.886295,\\n    \"JEP\": 0.872067,\\n    \"JMD\": 159.258835,\\n    \"JOD\": 0.735747,\\n    \"JPY\": 145.033045,\\n    \"KES\": 126.185212,\\n    \"KGS\": 87.150347,\\n    \"KHR\": 4281.982687,\\n    \"KMF\": 493.419053,\\n    \"KPW\": 932.934786,\\n    \"KRW\": 1390.808354,\\n    \"KWD\": 0.319103,\\n    \"KYD\": 0.86257,\\n    \"KZT\": 473.991195,\\n    \"LAK\": 17885.228322,\\n    \"LBP\": 1564.054431,\\n    \"LKR\": 380.107229,\\n    \"LRD\": 159.635962,\\n    \"LSL\": 18.062615,\\n    \"LYD\": 5.058332,\\n    \"MAD\": 11.087006,\\n    \"MDL\": 19.807165,\\n    \"MGA\": 4444.789938,\\n    \"MKD\": 61.596149,\\n    \"MMK\": 2172.008183,\\n    \"MNT\": 3531.638735,\\n    \"MOP\": 8.339308,\\n    \"MRU\": 39.334346,\\n    \"MUR\": 45.299509,\\n    \"MVR\": 15.97451,\\n    \"MWK\": 1061.632071,\\n    \"MXN\": 20.126409,\\n    \"MYR\": 4.720862,\\n    \"MZN\": 66.187044,\\n    \"NAD\": 18.006451,\\n    \"NGN\": 456.13727,\\n    \"NIO\": 37.228941,\\n    \"NOK\": 10.487977,\\n    \"NPR\": 135.02995,\\n    \"NZD\": 1.683284,\\n    \"OMR\": 0.399164,\\n    \"PAB\": 1.037758,\\n    \"PEN\": 3.965978,\\n    \"PGK\": 3.645185,\\n    \"PHP\": 59.369324,\\n    \"PKR\": 230.259797,\\n    \"PLN\": 4.70864,\\n    \"PYG\": 7381.741779,\\n    \"QAR\": 3.773637,\\n    \"RON\": 4.928128,\\n    \"RSD\": 117.281548,\\n    \"RUB\": 62.626891,\\n    \"RWF\": 1088.337807,\\n    \"SAR\": 3.897282,\\n    \"SBD\": 8.532226,\\n    \"SCR\": 14.065206,\\n    \"SDG\": 589.304338,\\n    \"SEK\": 10.986418,\\n    \"SGD\": 1.425185,\\n    \"SHP\": 0.872142,\\n    \"SLL\": 18311.426998,\\n    \"SOS\": 587.987294,\\n    \"SRD\": 31.580809,\\n    \"SSP\": 135.026821,\\n    \"STD\": 23659.203634,\\n    \"STN\": 24.671325,\\n    \"SVC\": 9.051079,\\n    \"SYP\": 2604.473264,\\n    \"SZL\": 18.061076,\\n    \"THB\": 37.152524,\\n    \"TJS\": 10.42705,\\n    \"TMT\": 3.639319,\\n    \"TND\": 3.280708,\\n    \"TOP\": 2.460418,\\n    \"TRY\": 19.282428,\\n    \"TTD\": 7.020968,\\n    \"TWD\": 32.256615,\\n    \"TZS\": 2411.943448,\\n    \"UAH\": 38.184636,\\n    \"UGX\": 3868.332728,\\n    \"USD\": 1.037797,\\n    \"UYU\": 41.248074,\\n    \"UZS\": 11592.735173,\\n    \"VES\": 9.762613,\\n    \"VND\": 25709.170235,\\n    \"VUV\": 126.733329,\\n    \"WST\": 2.897414,\\n    \"XAF\": 655.843323,\\n    \"XAG\": 0.049526,\\n    \"XAU\": 0.00189,\\n    \"XCD\": 2.801721,\\n    \"XDR\": 0.771176,\\n    \"XOF\": 655.843149,\\n    \"XPD\": 0.001285,\\n    \"XPF\": 119.311961,\\n    \"XPT\": 0.001982,\\n    \"YER\": 259.278216,\\n    \"ZAR\": 18.000026,\\n    \"ZMW\": 17.195277,\\n    \"ZWL\": 333.783465\\n  }\\n}'"
      ]
     },
     "execution_count": 7,
     "metadata": {},
     "output_type": "execute_result"
    }
   ],
   "source": [
    "json.dumps(response.json(), indent = 2)"
   ]
  },
  {
   "cell_type": "code",
   "execution_count": 8,
   "id": "a51f8384",
   "metadata": {},
   "outputs": [
    {
     "name": "stdout",
     "output_type": "stream",
     "text": [
      "{\n",
      "      \"motd\": {\n",
      "            \"msg\": \"If you or your company use this project or like what we doing, please consider backing us so we can continue maintaining and evolving this project.\",\n",
      "            \"url\": \"https://exchangerate.host/#/donate\"\n",
      "      },\n",
      "      \"success\": true,\n",
      "      \"base\": \"EUR\",\n",
      "      \"date\": \"2022-11-18\",\n",
      "      \"rates\": {\n",
      "            \"AED\": 3.807805,\n",
      "            \"AFN\": 91.708906,\n",
      "            \"ALL\": 117.079329,\n",
      "            \"AMD\": 409.091749,\n",
      "            \"ANG\": 1.864068,\n",
      "            \"AOA\": 524.732186,\n",
      "            \"ARS\": 168.74089,\n",
      "            \"AUD\": 1.546407,\n",
      "            \"AWG\": 1.86953,\n",
      "            \"AZN\": 1.763129,\n",
      "            \"BAM\": 1.956654,\n",
      "            \"BBD\": 2.073793,\n",
      "            \"BDT\": 106.536433,\n",
      "            \"BGN\": 1.952851,\n",
      "            \"BHD\": 0.391929,\n",
      "            \"BIF\": 2140.384782,\n",
      "            \"BMD\": 1.037393,\n",
      "            \"BND\": 1.423364,\n",
      "            \"BOB\": 7.147042,\n",
      "            \"BRL\": 5.622734,\n",
      "            \"BSD\": 1.037449,\n",
      "            \"BTC\": 6.2e-05,\n",
      "            \"BTN\": 84.401888,\n",
      "            \"BWP\": 13.450073,\n",
      "            \"BYN\": 2.612257,\n",
      "            \"BZD\": 2.085346,\n",
      "            \"CAD\": 1.381207,\n",
      "            \"CDF\": 2125.441691,\n",
      "            \"CHF\": 0.986952,\n",
      "            \"CLF\": 0.035724,\n",
      "            \"CLP\": 955.4292,\n",
      "            \"CNH\": 7.398441,\n",
      "            \"CNY\": 7.38905,\n",
      "            \"COP\": 5111.643923,\n",
      "            \"CRC\": 631.877548,\n",
      "            \"CUC\": 1.037362,\n",
      "            \"CUP\": 26.692858,\n",
      "            \"CVE\": 110.91594,\n",
      "            \"CZK\": 24.399473,\n",
      "            \"DJF\": 184.124678,\n",
      "            \"DKK\": 7.436266,\n",
      "            \"DOP\": 56.337505,\n",
      "            \"DZD\": 143.956074,\n",
      "            \"EGP\": 25.407816,\n",
      "            \"ERN\": 15.549989,\n",
      "            \"ETB\": 55.242168,\n",
      "            \"EUR\": 1,\n",
      "            \"FJD\": 2.308232,\n",
      "            \"FKP\": 0.872674,\n",
      "            \"GBP\": 0.871964,\n",
      "            \"GEL\": 2.819626,\n",
      "            \"GGP\": 0.872782,\n",
      "            \"GHS\": 14.997785,\n",
      "            \"GIP\": 0.872115,\n",
      "            \"GMD\": 63.802691,\n",
      "            \"GNF\": 8909.845222,\n",
      "            \"GTQ\": 8.074442,\n",
      "            \"GYD\": 216.3988,\n",
      "            \"HKD\": 8.110509,\n",
      "            \"HNL\": 25.561051,\n",
      "            \"HRK\": 7.542284,\n",
      "            \"HTG\": 141.698989,\n",
      "            \"HUF\": 411.3998,\n",
      "            \"IDR\": 16253.594785,\n",
      "            \"ILS\": 3.602475,\n",
      "            \"IMP\": 0.872612,\n",
      "            \"INR\": 84.617512,\n",
      "            \"IQD\": 1509.606576,\n",
      "            \"IRR\": 43899.740658,\n",
      "            \"ISK\": 148.886295,\n",
      "            \"JEP\": 0.872067,\n",
      "            \"JMD\": 159.258835,\n",
      "            \"JOD\": 0.735747,\n",
      "            \"JPY\": 145.033045,\n",
      "            \"KES\": 126.185212,\n",
      "            \"KGS\": 87.150347,\n",
      "            \"KHR\": 4281.982687,\n",
      "            \"KMF\": 493.419053,\n",
      "            \"KPW\": 932.934786,\n",
      "            \"KRW\": 1390.808354,\n",
      "            \"KWD\": 0.319103,\n",
      "            \"KYD\": 0.86257,\n",
      "            \"KZT\": 473.991195,\n",
      "            \"LAK\": 17885.228322,\n",
      "            \"LBP\": 1564.054431,\n",
      "            \"LKR\": 380.107229,\n",
      "            \"LRD\": 159.635962,\n",
      "            \"LSL\": 18.062615,\n",
      "            \"LYD\": 5.058332,\n",
      "            \"MAD\": 11.087006,\n",
      "            \"MDL\": 19.807165,\n",
      "            \"MGA\": 4444.789938,\n",
      "            \"MKD\": 61.596149,\n",
      "            \"MMK\": 2172.008183,\n",
      "            \"MNT\": 3531.638735,\n",
      "            \"MOP\": 8.339308,\n",
      "            \"MRU\": 39.334346,\n",
      "            \"MUR\": 45.299509,\n",
      "            \"MVR\": 15.97451,\n",
      "            \"MWK\": 1061.632071,\n",
      "            \"MXN\": 20.126409,\n",
      "            \"MYR\": 4.720862,\n",
      "            \"MZN\": 66.187044,\n",
      "            \"NAD\": 18.006451,\n",
      "            \"NGN\": 456.13727,\n",
      "            \"NIO\": 37.228941,\n",
      "            \"NOK\": 10.487977,\n",
      "            \"NPR\": 135.02995,\n",
      "            \"NZD\": 1.683284,\n",
      "            \"OMR\": 0.399164,\n",
      "            \"PAB\": 1.037758,\n",
      "            \"PEN\": 3.965978,\n",
      "            \"PGK\": 3.645185,\n",
      "            \"PHP\": 59.369324,\n",
      "            \"PKR\": 230.259797,\n",
      "            \"PLN\": 4.70864,\n",
      "            \"PYG\": 7381.741779,\n",
      "            \"QAR\": 3.773637,\n",
      "            \"RON\": 4.928128,\n",
      "            \"RSD\": 117.281548,\n",
      "            \"RUB\": 62.626891,\n",
      "            \"RWF\": 1088.337807,\n",
      "            \"SAR\": 3.897282,\n",
      "            \"SBD\": 8.532226,\n",
      "            \"SCR\": 14.065206,\n",
      "            \"SDG\": 589.304338,\n",
      "            \"SEK\": 10.986418,\n",
      "            \"SGD\": 1.425185,\n",
      "            \"SHP\": 0.872142,\n",
      "            \"SLL\": 18311.426998,\n",
      "            \"SOS\": 587.987294,\n",
      "            \"SRD\": 31.580809,\n",
      "            \"SSP\": 135.026821,\n",
      "            \"STD\": 23659.203634,\n",
      "            \"STN\": 24.671325,\n",
      "            \"SVC\": 9.051079,\n",
      "            \"SYP\": 2604.473264,\n",
      "            \"SZL\": 18.061076,\n",
      "            \"THB\": 37.152524,\n",
      "            \"TJS\": 10.42705,\n",
      "            \"TMT\": 3.639319,\n",
      "            \"TND\": 3.280708,\n",
      "            \"TOP\": 2.460418,\n",
      "            \"TRY\": 19.282428,\n",
      "            \"TTD\": 7.020968,\n",
      "            \"TWD\": 32.256615,\n",
      "            \"TZS\": 2411.943448,\n",
      "            \"UAH\": 38.184636,\n",
      "            \"UGX\": 3868.332728,\n",
      "            \"USD\": 1.037797,\n",
      "            \"UYU\": 41.248074,\n",
      "            \"UZS\": 11592.735173,\n",
      "            \"VES\": 9.762613,\n",
      "            \"VND\": 25709.170235,\n",
      "            \"VUV\": 126.733329,\n",
      "            \"WST\": 2.897414,\n",
      "            \"XAF\": 655.843323,\n",
      "            \"XAG\": 0.049526,\n",
      "            \"XAU\": 0.00189,\n",
      "            \"XCD\": 2.801721,\n",
      "            \"XDR\": 0.771176,\n",
      "            \"XOF\": 655.843149,\n",
      "            \"XPD\": 0.001285,\n",
      "            \"XPF\": 119.311961,\n",
      "            \"XPT\": 0.001982,\n",
      "            \"YER\": 259.278216,\n",
      "            \"ZAR\": 18.000026,\n",
      "            \"ZMW\": 17.195277,\n",
      "            \"ZWL\": 333.783465\n",
      "      }\n",
      "}\n"
     ]
    }
   ],
   "source": [
    "print(json.dumps(response.json(), indent = 6))"
   ]
  },
  {
   "cell_type": "code",
   "execution_count": 9,
   "id": "9a6e5238",
   "metadata": {},
   "outputs": [
    {
     "data": {
      "text/plain": [
       "dict_keys(['motd', 'success', 'base', 'date', 'rates'])"
      ]
     },
     "execution_count": 9,
     "metadata": {},
     "output_type": "execute_result"
    }
   ],
   "source": [
    "response.json().keys()\n",
    "           "
   ]
  },
  {
   "cell_type": "markdown",
   "id": "7202e51e",
   "metadata": {},
   "source": [
    "# Incoporating parameters in GET request"
   ]
  },
  {
   "cell_type": "code",
   "execution_count": 10,
   "id": "81693060",
   "metadata": {},
   "outputs": [
    {
     "data": {
      "text/plain": [
       "'https://api.exchangerate.host/latest?symbols=USD,GBP'"
      ]
     },
     "execution_count": 10,
     "metadata": {},
     "output_type": "execute_result"
    }
   ],
   "source": [
    "param_url = base_url + \"?symbols=USD,GBP\"\n",
    "\n",
    "param_url"
   ]
  },
  {
   "cell_type": "code",
   "execution_count": 11,
   "id": "b40ee5da",
   "metadata": {},
   "outputs": [
    {
     "data": {
      "text/plain": [
       "<Response [200]>"
      ]
     },
     "execution_count": 11,
     "metadata": {},
     "output_type": "execute_result"
    }
   ],
   "source": [
    "response  = requests.get(param_url)\n",
    "response"
   ]
  },
  {
   "cell_type": "code",
   "execution_count": 12,
   "id": "20e78a25",
   "metadata": {},
   "outputs": [
    {
     "data": {
      "text/plain": [
       "{'motd': {'msg': 'If you or your company use this project or like what we doing, please consider backing us so we can continue maintaining and evolving this project.',\n",
       "  'url': 'https://exchangerate.host/#/donate'},\n",
       " 'success': True,\n",
       " 'base': 'EUR',\n",
       " 'date': '2022-11-18',\n",
       " 'rates': {'GBP': 0.871964, 'USD': 1.037797}}"
      ]
     },
     "execution_count": 12,
     "metadata": {},
     "output_type": "execute_result"
    }
   ],
   "source": [
    "data = response.json()\n",
    "data"
   ]
  },
  {
   "cell_type": "code",
   "execution_count": 13,
   "id": "770fe2c5",
   "metadata": {},
   "outputs": [
    {
     "data": {
      "text/plain": [
       "'EUR'"
      ]
     },
     "execution_count": 13,
     "metadata": {},
     "output_type": "execute_result"
    }
   ],
   "source": [
    "data[\"base\"]"
   ]
  },
  {
   "cell_type": "code",
   "execution_count": 14,
   "id": "7b90a21e",
   "metadata": {},
   "outputs": [
    {
     "data": {
      "text/plain": [
       "'2022-11-18'"
      ]
     },
     "execution_count": 14,
     "metadata": {},
     "output_type": "execute_result"
    }
   ],
   "source": [
    "data[\"date\"]"
   ]
  },
  {
   "cell_type": "code",
   "execution_count": 15,
   "id": "6887bc41",
   "metadata": {},
   "outputs": [
    {
     "data": {
      "text/plain": [
       "1.037797"
      ]
     },
     "execution_count": 15,
     "metadata": {},
     "output_type": "execute_result"
    }
   ],
   "source": [
    "Euros_to_USD = data[\"rates\"][\"USD\"]\n",
    "\n",
    "Euros_to_USD"
   ]
  },
  {
   "cell_type": "code",
   "execution_count": 16,
   "id": "b2a77f0b",
   "metadata": {},
   "outputs": [],
   "source": [
    "param_url2 = base_url + \"?symbols=GBP\" + \"&\" + \"base=USD\""
   ]
  },
  {
   "cell_type": "code",
   "execution_count": 17,
   "id": "79376bf4",
   "metadata": {},
   "outputs": [
    {
     "data": {
      "text/plain": [
       "'https://api.exchangerate.host/latest?symbols=GBP&base=USD'"
      ]
     },
     "execution_count": 17,
     "metadata": {},
     "output_type": "execute_result"
    }
   ],
   "source": [
    "param_url2"
   ]
  },
  {
   "cell_type": "code",
   "execution_count": 18,
   "id": "a26f1613",
   "metadata": {},
   "outputs": [
    {
     "data": {
      "text/plain": [
       "{'motd': {'msg': 'If you or your company use this project or like what we doing, please consider backing us so we can continue maintaining and evolving this project.',\n",
       "  'url': 'https://exchangerate.host/#/donate'},\n",
       " 'success': True,\n",
       " 'base': 'USD',\n",
       " 'date': '2022-11-18',\n",
       " 'rates': {'GBP': 0.840207}}"
      ]
     },
     "execution_count": 18,
     "metadata": {},
     "output_type": "execute_result"
    }
   ],
   "source": [
    "response_new = requests.get(param_url2).json()\n",
    "response_new"
   ]
  },
  {
   "cell_type": "code",
   "execution_count": null,
   "id": "25fe968e",
   "metadata": {},
   "outputs": [],
   "source": []
  },
  {
   "cell_type": "markdown",
   "id": "504eff7e",
   "metadata": {},
   "source": [
    "# Obtaining Historical Exchange Rate"
   ]
  },
  {
   "cell_type": "code",
   "execution_count": 19,
   "id": "61df11c6",
   "metadata": {},
   "outputs": [
    {
     "data": {
      "text/plain": [
       "'https://api.exchangerate.host/2016-01-26'"
      ]
     },
     "execution_count": 19,
     "metadata": {},
     "output_type": "execute_result"
    }
   ],
   "source": [
    "base_url = \"https://api.exchangerate.host\"\n",
    "\n",
    "historical_url = base_url + \"/2016-01-26\"\n",
    "\n",
    "historical_url"
   ]
  },
  {
   "cell_type": "code",
   "execution_count": 20,
   "id": "6012a71e",
   "metadata": {},
   "outputs": [
    {
     "data": {
      "text/plain": [
       "<Response [200]>"
      ]
     },
     "execution_count": 20,
     "metadata": {},
     "output_type": "execute_result"
    }
   ],
   "source": [
    "response = requests.get(historical_url)\n",
    "\n",
    "response"
   ]
  },
  {
   "cell_type": "code",
   "execution_count": 21,
   "id": "d37fa6dc",
   "metadata": {},
   "outputs": [],
   "source": [
    "data = response.json()"
   ]
  },
  {
   "cell_type": "code",
   "execution_count": 22,
   "id": "40ed0911",
   "metadata": {},
   "outputs": [
    {
     "name": "stdout",
     "output_type": "stream",
     "text": [
      "{\n",
      "      \"motd\": {\n",
      "            \"msg\": \"If you or your company use this project or like what we doing, please consider backing us so we can continue maintaining and evolving this project.\",\n",
      "            \"url\": \"https://exchangerate.host/#/donate\"\n",
      "      },\n",
      "      \"success\": true,\n",
      "      \"historical\": true,\n",
      "      \"base\": \"EUR\",\n",
      "      \"date\": \"2016-01-26\",\n",
      "      \"rates\": {\n",
      "            \"USD\": 1.0853,\n",
      "            \"JPY\": 128.295,\n",
      "            \"BGN\": 1.9484,\n",
      "            \"CZK\": 27,\n",
      "            \"DKK\": 7.4617,\n",
      "            \"GBP\": 0.762,\n",
      "            \"HUF\": 311.9,\n",
      "            \"PLN\": 4.4728,\n",
      "            \"RON\": 4.5278,\n",
      "            \"SEK\": 9.2876,\n",
      "            \"CHF\": 1.0987,\n",
      "            \"NOK\": 9.5015,\n",
      "            \"HRK\": 7.6593,\n",
      "            \"RUB\": 86.1494,\n",
      "            \"TRY\": 3.2802,\n",
      "            \"AUD\": 1.5643,\n",
      "            \"BRL\": 4.4349,\n",
      "            \"CAD\": 1.5515,\n",
      "            \"CNY\": 7.1273,\n",
      "            \"HKD\": 8.4574,\n",
      "            \"IDR\": 14776.9004,\n",
      "            \"ILS\": 4.3092,\n",
      "            \"INR\": 73.441,\n",
      "            \"KRW\": 1299.5699,\n",
      "            \"MXN\": 20.2018,\n",
      "            \"MYR\": 4.5684,\n",
      "            \"NZD\": 1.6848,\n",
      "            \"PHP\": 51.937,\n",
      "            \"SGD\": 1.5528,\n",
      "            \"THB\": 39.0046,\n",
      "            \"ZAR\": 17.9418,\n",
      "            \"EUR\": 1,\n",
      "            \"AED\": 3.9821,\n",
      "            \"AFN\": 73.19,\n",
      "            \"ALL\": 134.8,\n",
      "            \"ARS\": 14.9236,\n",
      "            \"BAM\": 1.9458,\n",
      "            \"BBD\": 2.1189,\n",
      "            \"BDT\": 83.0919,\n",
      "            \"BHD\": 0.4055,\n",
      "            \"BIF\": 1654.26,\n",
      "            \"BMD\": 1.0787,\n",
      "            \"BND\": 1.5212,\n",
      "            \"BOB\": 7.275,\n",
      "            \"BSD\": 1.0748,\n",
      "            \"BWP\": 12.3896,\n",
      "            \"BZD\": 2.1081,\n",
      "            \"CLP\": 760.288,\n",
      "            \"COP\": 3529.1001,\n",
      "            \"CRC\": 565.94,\n",
      "            \"CUP\": 1.052,\n",
      "            \"CVE\": 110.265,\n",
      "            \"DJF\": 187.68,\n",
      "            \"DOP\": 48.469,\n",
      "            \"DZD\": 116.116,\n",
      "            \"EGP\": 8.469,\n",
      "            \"ETB\": 22.7263,\n",
      "            \"FJD\": 2.3395,\n",
      "            \"GHS\": 4.2681,\n",
      "            \"GNF\": 8275.2998,\n",
      "            \"GTQ\": 8.0723,\n",
      "            \"HNL\": 23.851,\n",
      "            \"HTG\": 62.316,\n",
      "            \"IQD\": 1242.38,\n",
      "            \"ISK\": 141.18,\n",
      "            \"JMD\": 128.786,\n",
      "            \"JOD\": 0.7607,\n",
      "            \"KES\": 109.03,\n",
      "            \"KHR\": 4271.3999,\n",
      "            \"KWD\": 0.3288,\n",
      "            \"KYD\": 0.8814,\n",
      "            \"KZT\": 404.68,\n",
      "            \"LAK\": 8578.9004,\n",
      "            \"LBP\": 1589.7,\n",
      "            \"LKR\": 152.383,\n",
      "            \"LSL\": 17.565,\n",
      "            \"LYD\": 1.4869,\n",
      "            \"MAD\": 10.467,\n",
      "            \"MDL\": 22.0223,\n",
      "            \"MGA\": 3436.55,\n",
      "            \"MKD\": 61.238,\n",
      "            \"MMK\": 1378.89,\n",
      "            \"MOP\": 8.4858,\n",
      "            \"MRO\": 326.37,\n",
      "            \"MUR\": 37.66,\n",
      "            \"MVR\": 16.201,\n",
      "            \"MWK\": 766.264,\n",
      "            \"NAD\": 17.565,\n",
      "            \"NGN\": 212.54,\n",
      "            \"NIO\": 29.2,\n",
      "            \"NPR\": 115.58,\n",
      "            \"OMR\": 0.4161,\n",
      "            \"PAB\": 1.0567,\n",
      "            \"PEN\": 3.6495,\n",
      "            \"PGK\": 3.1849,\n",
      "            \"PKR\": 111.905,\n",
      "            \"PYG\": 6307.1001,\n",
      "            \"QAR\": 3.9462,\n",
      "            \"RSD\": 123.229,\n",
      "            \"RWF\": 792.54,\n",
      "            \"SAR\": 4.0632,\n",
      "            \"SCR\": 13.933,\n",
      "            \"SDG\": 6.5488,\n",
      "            \"SOS\": 633.4,\n",
      "            \"STD\": 24500,\n",
      "            \"SVC\": 9.225,\n",
      "            \"SZL\": 17.6214,\n",
      "            \"TND\": 2.2151,\n",
      "            \"TTD\": 6.8226,\n",
      "            \"TWD\": 35.2366,\n",
      "            \"TZS\": 2317.99,\n",
      "            \"UAH\": 26.5279,\n",
      "            \"UGX\": 3717.3999,\n",
      "            \"UYU\": 32.984,\n",
      "            \"UZS\": 3012.3501,\n",
      "            \"VEF\": 6.814,\n",
      "            \"VND\": 23813,\n",
      "            \"XAF\": 655.957,\n",
      "            \"XOF\": 655.957,\n",
      "            \"XPF\": 119.26,\n",
      "            \"ZMW\": 12.1199\n",
      "      }\n",
      "}\n"
     ]
    }
   ],
   "source": [
    "print(json.dumps(data, indent = 6))"
   ]
  },
  {
   "cell_type": "code",
   "execution_count": null,
   "id": "24a2f792",
   "metadata": {},
   "outputs": [],
   "source": []
  },
  {
   "cell_type": "markdown",
   "id": "0611a8a9",
   "metadata": {},
   "source": [
    "# Extracting data for a time period"
   ]
  },
  {
   "cell_type": "code",
   "execution_count": 23,
   "id": "3b1d76e5",
   "metadata": {},
   "outputs": [
    {
     "data": {
      "text/plain": [
       "'https://api.exchangerate.host/timeseries?start_date=2017-04-26&end_date=2017-07-26&symbols=GBP'"
      ]
     },
     "execution_count": 23,
     "metadata": {},
     "output_type": "execute_result"
    }
   ],
   "source": [
    "time_period_url = base_url + \"/timeseries\" + \"?start_date=2017-04-26&end_date=2017-07-26\" + \"&symbols=GBP\"\n",
    "\n",
    "time_period_url"
   ]
  },
  {
   "cell_type": "code",
   "execution_count": 24,
   "id": "0a6003cb",
   "metadata": {},
   "outputs": [
    {
     "name": "stdout",
     "output_type": "stream",
     "text": [
      "{\n",
      "    \"base\": \"EUR\",\n",
      "    \"end_date\": \"2017-07-26\",\n",
      "    \"motd\": {\n",
      "        \"msg\": \"If you or your company use this project or like what we doing, please consider backing us so we can continue maintaining and evolving this project.\",\n",
      "        \"url\": \"https://exchangerate.host/#/donate\"\n",
      "    },\n",
      "    \"rates\": {\n",
      "        \"2017-04-26\": {\n",
      "            \"GBP\": 0.8515\n",
      "        },\n",
      "        \"2017-04-27\": {\n",
      "            \"GBP\": 0.849\n",
      "        },\n",
      "        \"2017-04-28\": {\n",
      "            \"GBP\": 0.8426\n",
      "        },\n",
      "        \"2017-04-29\": {\n",
      "            \"GBP\": 0.8426\n",
      "        },\n",
      "        \"2017-04-30\": {\n",
      "            \"GBP\": 0.8426\n",
      "        },\n",
      "        \"2017-05-01\": {\n",
      "            \"GBP\": 0.8434\n",
      "        },\n",
      "        \"2017-05-02\": {\n",
      "            \"GBP\": 0.8458\n",
      "        },\n",
      "        \"2017-05-03\": {\n",
      "            \"GBP\": 0.845\n",
      "        },\n",
      "        \"2017-05-04\": {\n",
      "            \"GBP\": 0.8459\n",
      "        },\n",
      "        \"2017-05-05\": {\n",
      "            \"GBP\": 0.8495\n",
      "        },\n",
      "        \"2017-05-06\": {\n",
      "            \"GBP\": 0.8495\n",
      "        },\n",
      "        \"2017-05-07\": {\n",
      "            \"GBP\": 0.8495\n",
      "        },\n",
      "        \"2017-05-08\": {\n",
      "            \"GBP\": 0.8457\n",
      "        },\n",
      "        \"2017-05-09\": {\n",
      "            \"GBP\": 0.8442\n",
      "        },\n",
      "        \"2017-05-10\": {\n",
      "            \"GBP\": 0.8407\n",
      "        },\n",
      "        \"2017-05-11\": {\n",
      "            \"GBP\": 0.8404\n",
      "        },\n",
      "        \"2017-05-12\": {\n",
      "            \"GBP\": 0.8429\n",
      "        },\n",
      "        \"2017-05-13\": {\n",
      "            \"GBP\": 0.8429\n",
      "        },\n",
      "        \"2017-05-14\": {\n",
      "            \"GBP\": 0.8429\n",
      "        },\n",
      "        \"2017-05-15\": {\n",
      "            \"GBP\": 0.848\n",
      "        },\n",
      "        \"2017-05-16\": {\n",
      "            \"GBP\": 0.8509\n",
      "        },\n",
      "        \"2017-05-17\": {\n",
      "            \"GBP\": 0.8588\n",
      "        },\n",
      "        \"2017-05-18\": {\n",
      "            \"GBP\": 0.8601\n",
      "        },\n",
      "        \"2017-05-19\": {\n",
      "            \"GBP\": 0.8575\n",
      "        },\n",
      "        \"2017-05-20\": {\n",
      "            \"GBP\": 0.8575\n",
      "        },\n",
      "        \"2017-05-21\": {\n",
      "            \"GBP\": 0.8575\n",
      "        },\n",
      "        \"2017-05-22\": {\n",
      "            \"GBP\": 0.8611\n",
      "        },\n",
      "        \"2017-05-23\": {\n",
      "            \"GBP\": 0.8648\n",
      "        },\n",
      "        \"2017-05-24\": {\n",
      "            \"GBP\": 0.8628\n",
      "        },\n",
      "        \"2017-05-25\": {\n",
      "            \"GBP\": 0.8653\n",
      "        },\n",
      "        \"2017-05-26\": {\n",
      "            \"GBP\": 0.8669\n",
      "        },\n",
      "        \"2017-05-27\": {\n",
      "            \"GBP\": 0.8669\n",
      "        },\n",
      "        \"2017-05-28\": {\n",
      "            \"GBP\": 0.8669\n",
      "        },\n",
      "        \"2017-05-29\": {\n",
      "            \"GBP\": 0.8721\n",
      "        },\n",
      "        \"2017-05-30\": {\n",
      "            \"GBP\": 0.8684\n",
      "        },\n",
      "        \"2017-05-31\": {\n",
      "            \"GBP\": 0.8721\n",
      "        },\n",
      "        \"2017-06-01\": {\n",
      "            \"GBP\": 0.8729\n",
      "        },\n",
      "        \"2017-06-02\": {\n",
      "            \"GBP\": 0.8701\n",
      "        },\n",
      "        \"2017-06-03\": {\n",
      "            \"GBP\": 0.8701\n",
      "        },\n",
      "        \"2017-06-04\": {\n",
      "            \"GBP\": 0.8701\n",
      "        },\n",
      "        \"2017-06-05\": {\n",
      "            \"GBP\": 0.8765\n",
      "        },\n",
      "        \"2017-06-06\": {\n",
      "            \"GBP\": 0.8719\n",
      "        },\n",
      "        \"2017-06-07\": {\n",
      "            \"GBP\": 0.8733\n",
      "        },\n",
      "        \"2017-06-08\": {\n",
      "            \"GBP\": 0.8683\n",
      "        },\n",
      "        \"2017-06-09\": {\n",
      "            \"GBP\": 0.879\n",
      "        },\n",
      "        \"2017-06-10\": {\n",
      "            \"GBP\": 0.879\n",
      "        },\n",
      "        \"2017-06-11\": {\n",
      "            \"GBP\": 0.879\n",
      "        },\n",
      "        \"2017-06-12\": {\n",
      "            \"GBP\": 0.8791\n",
      "        },\n",
      "        \"2017-06-13\": {\n",
      "            \"GBP\": 0.8836\n",
      "        },\n",
      "        \"2017-06-14\": {\n",
      "            \"GBP\": 0.8791\n",
      "        },\n",
      "        \"2017-06-15\": {\n",
      "            \"GBP\": 0.8791\n",
      "        },\n",
      "        \"2017-06-16\": {\n",
      "            \"GBP\": 0.8737\n",
      "        },\n",
      "        \"2017-06-17\": {\n",
      "            \"GBP\": 0.8737\n",
      "        },\n",
      "        \"2017-06-18\": {\n",
      "            \"GBP\": 0.8737\n",
      "        },\n",
      "        \"2017-06-19\": {\n",
      "            \"GBP\": 0.8769\n",
      "        },\n",
      "        \"2017-06-20\": {\n",
      "            \"GBP\": 0.8753\n",
      "        },\n",
      "        \"2017-06-21\": {\n",
      "            \"GBP\": 0.8816\n",
      "        },\n",
      "        \"2017-06-22\": {\n",
      "            \"GBP\": 0.8809\n",
      "        },\n",
      "        \"2017-06-23\": {\n",
      "            \"GBP\": 0.8794\n",
      "        },\n",
      "        \"2017-06-24\": {\n",
      "            \"GBP\": 0.8794\n",
      "        },\n",
      "        \"2017-06-25\": {\n",
      "            \"GBP\": 0.8794\n",
      "        },\n",
      "        \"2017-06-26\": {\n",
      "            \"GBP\": 0.8787\n",
      "        },\n",
      "        \"2017-06-27\": {\n",
      "            \"GBP\": 0.8788\n",
      "        },\n",
      "        \"2017-06-28\": {\n",
      "            \"GBP\": 0.8848\n",
      "        },\n",
      "        \"2017-06-29\": {\n",
      "            \"GBP\": 0.8795\n",
      "        },\n",
      "        \"2017-06-30\": {\n",
      "            \"GBP\": 0.8792\n",
      "        },\n",
      "        \"2017-07-01\": {\n",
      "            \"GBP\": 0.8792\n",
      "        },\n",
      "        \"2017-07-02\": {\n",
      "            \"GBP\": 0.8792\n",
      "        },\n",
      "        \"2017-07-03\": {\n",
      "            \"GBP\": 0.8775\n",
      "        },\n",
      "        \"2017-07-04\": {\n",
      "            \"GBP\": 0.8782\n",
      "        },\n",
      "        \"2017-07-05\": {\n",
      "            \"GBP\": 0.8781\n",
      "        },\n",
      "        \"2017-07-06\": {\n",
      "            \"GBP\": 0.8773\n",
      "        },\n",
      "        \"2017-07-07\": {\n",
      "            \"GBP\": 0.8808\n",
      "        },\n",
      "        \"2017-07-08\": {\n",
      "            \"GBP\": 0.8808\n",
      "        },\n",
      "        \"2017-07-09\": {\n",
      "            \"GBP\": 0.8808\n",
      "        },\n",
      "        \"2017-07-10\": {\n",
      "            \"GBP\": 0.8846\n",
      "        },\n",
      "        \"2017-07-11\": {\n",
      "            \"GBP\": 0.8832\n",
      "        },\n",
      "        \"2017-07-12\": {\n",
      "            \"GBP\": 0.8922\n",
      "        },\n",
      "        \"2017-07-13\": {\n",
      "            \"GBP\": 0.8856\n",
      "        },\n",
      "        \"2017-07-14\": {\n",
      "            \"GBP\": 0.8807\n",
      "        },\n",
      "        \"2017-07-15\": {\n",
      "            \"GBP\": 0.8807\n",
      "        },\n",
      "        \"2017-07-16\": {\n",
      "            \"GBP\": 0.8807\n",
      "        },\n",
      "        \"2017-07-17\": {\n",
      "            \"GBP\": 0.8752\n",
      "        },\n",
      "        \"2017-07-18\": {\n",
      "            \"GBP\": 0.8791\n",
      "        },\n",
      "        \"2017-07-19\": {\n",
      "            \"GBP\": 0.8858\n",
      "        },\n",
      "        \"2017-07-20\": {\n",
      "            \"GBP\": 0.8847\n",
      "        },\n",
      "        \"2017-07-21\": {\n",
      "            \"GBP\": 0.8969\n",
      "        },\n",
      "        \"2017-07-22\": {\n",
      "            \"GBP\": 0.8969\n",
      "        },\n",
      "        \"2017-07-23\": {\n",
      "            \"GBP\": 0.8969\n",
      "        },\n",
      "        \"2017-07-24\": {\n",
      "            \"GBP\": 0.8982\n",
      "        },\n",
      "        \"2017-07-25\": {\n",
      "            \"GBP\": 0.8933\n",
      "        },\n",
      "        \"2017-07-26\": {\n",
      "            \"GBP\": 0.8938\n",
      "        }\n",
      "    },\n",
      "    \"start_date\": \"2017-04-26\",\n",
      "    \"success\": true,\n",
      "    \"timeseries\": true\n",
      "}\n"
     ]
    }
   ],
   "source": [
    "data  = requests.get(time_period_url).json()\n",
    "\n",
    "print(json.dumps(data, indent =4,sort_keys = True))"
   ]
  },
  {
   "cell_type": "markdown",
   "id": "bc916872",
   "metadata": {},
   "source": [
    "# Testing API  response to incorrect requests/Inputs"
   ]
  },
  {
   "cell_type": "code",
   "execution_count": 25,
   "id": "82081863",
   "metadata": {},
   "outputs": [],
   "source": [
    "wrong_url = base_url + \"/2013-02-29\"\n"
   ]
  },
  {
   "cell_type": "code",
   "execution_count": 26,
   "id": "4f54b391",
   "metadata": {},
   "outputs": [],
   "source": [
    "res2 = requests.get(wrong_url)"
   ]
  },
  {
   "cell_type": "code",
   "execution_count": 27,
   "id": "2f896a62",
   "metadata": {},
   "outputs": [
    {
     "data": {
      "text/plain": [
       "{'motd': {'msg': 'If you or your company use this project or like what we doing, please consider backing us so we can continue maintaining and evolving this project.',\n",
       "  'url': 'https://exchangerate.host/#/donate'},\n",
       " 'success': True,\n",
       " 'historical': True,\n",
       " 'base': 'EUR',\n",
       " 'date': '2013-03-01',\n",
       " 'rates': {'USD': 1.306,\n",
       "  'JPY': 120.923,\n",
       "  'BGN': 1.9483,\n",
       "  'CZK': 25.631,\n",
       "  'DKK': 7.4569,\n",
       "  'GBP': 0.8612,\n",
       "  'HUF': 295.083,\n",
       "  'LTL': 3.4521,\n",
       "  'LVL': 0.6983,\n",
       "  'PLN': 4.148,\n",
       "  'RON': 4.3581,\n",
       "  'SEK': 8.4362,\n",
       "  'CHF': 1.2237,\n",
       "  'NOK': 7.4851,\n",
       "  'HRK': 7.587,\n",
       "  'RUB': 40.0431,\n",
       "  'TRY': 2.3502,\n",
       "  'AUD': 1.2782,\n",
       "  'BRL': 2.5807,\n",
       "  'CAD': 1.3458,\n",
       "  'CNY': 8.1191,\n",
       "  'HKD': 10.1275,\n",
       "  'IDR': 12588,\n",
       "  'ILS': 4.8456,\n",
       "  'INR': 70.935,\n",
       "  'KRW': 1414.72,\n",
       "  'MXN': 16.6891,\n",
       "  'MYR': 4.0373,\n",
       "  'NZD': 1.5842,\n",
       "  'PHP': 52.961,\n",
       "  'SGD': 1.6167,\n",
       "  'THB': 38.868,\n",
       "  'ZAR': 11.7916,\n",
       "  'EUR': 1,\n",
       "  'AED': 4.7932,\n",
       "  'AFN': 67.06,\n",
       "  'ALL': 137.21,\n",
       "  'ARS': 6.5857,\n",
       "  'BAM': 1.9458,\n",
       "  'BBD': 2.5539,\n",
       "  'BDT': 101.635,\n",
       "  'BHD': 0.4896,\n",
       "  'BIF': 1984.96,\n",
       "  'BND': 1.5974,\n",
       "  'BOB': 8.9957,\n",
       "  'BSD': 1.3048,\n",
       "  'BWP': 10.3597,\n",
       "  'BYR': 11231,\n",
       "  'BZD': 2.5998,\n",
       "  'CLP': 605.629,\n",
       "  'COP': 2330.2,\n",
       "  'CRC': 640.85,\n",
       "  'CUP': 1.282,\n",
       "  'CVE': 107.17,\n",
       "  'DJF': 224.74,\n",
       "  'DOP': 52.505,\n",
       "  'DZD': 102.753,\n",
       "  'EGP': 8.782,\n",
       "  'ETB': 23.916,\n",
       "  'FJD': 2.2981,\n",
       "  'GHS': 2.4904,\n",
       "  'GMD': 42.898,\n",
       "  'GNF': 9135.2998,\n",
       "  'GTQ': 10.0694,\n",
       "  'HNL': 25.579,\n",
       "  'HTG': 54.752,\n",
       "  'IQD': 1495.62,\n",
       "  'IRR': 15856.9004,\n",
       "  'ISK': 164.47,\n",
       "  'JMD': 123.188,\n",
       "  'JOD': 0.9178,\n",
       "  'KES': 110.69,\n",
       "  'KHR': 5123.6001,\n",
       "  'KWD': 0.369,\n",
       "  'KYD': 1.0622,\n",
       "  'KZT': 194.34,\n",
       "  'LAK': 10101.4004,\n",
       "  'LBP': 1932.9,\n",
       "  'LKR': 166.35,\n",
       "  'LSL': 11.3834,\n",
       "  'LYD': 1.6404,\n",
       "  'MAD': 10.82,\n",
       "  'MDL': 15.8024,\n",
       "  'MGA': 2842.53,\n",
       "  'MKD': 60.677,\n",
       "  'MMK': 1110.74,\n",
       "  'MOP': 10.28,\n",
       "  'MRO': 382.61,\n",
       "  'MUR': 38.94,\n",
       "  'MVR': 19.766,\n",
       "  'MWK': 496.452,\n",
       "  'NAD': 11.465,\n",
       "  'NGN': 204.79,\n",
       "  'NIO': 31.738,\n",
       "  'NPR': 112.413,\n",
       "  'OMR': 0.5012,\n",
       "  'PAB': 1.2863,\n",
       "  'PEN': 3.3136,\n",
       "  'PGK': 2.618,\n",
       "  'PKR': 128.37,\n",
       "  'PYG': 5012.2998,\n",
       "  'QAR': 4.7503,\n",
       "  'RSD': 111.211,\n",
       "  'RWF': 814.71,\n",
       "  'SAR': 4.8933,\n",
       "  'SCR': 15.125,\n",
       "  'SDG': 5.7416,\n",
       "  'SOS': 2006.4,\n",
       "  'STD': 24018.0996,\n",
       "  'SVC': 11.235,\n",
       "  'SYP': 91.384,\n",
       "  'SZL': 11.4107,\n",
       "  'TND': 2.056,\n",
       "  'TTD': 8.2324,\n",
       "  'TWD': 37.8654,\n",
       "  'TZS': 2097.74,\n",
       "  'UAH': 10.5184,\n",
       "  'UGX': 3434.6001,\n",
       "  'UYU': 24.455,\n",
       "  'UZS': 2572.2,\n",
       "  'VEF': 8.2129,\n",
       "  'VND': 27089,\n",
       "  'XAF': 655.957,\n",
       "  'XOF': 655.957,\n",
       "  'XPF': 119.26,\n",
       "  'ZMW': 6.905}}"
      ]
     },
     "execution_count": 27,
     "metadata": {},
     "output_type": "execute_result"
    }
   ],
   "source": [
    "res2.json()"
   ]
  },
  {
   "cell_type": "code",
   "execution_count": null,
   "id": "9426c38b",
   "metadata": {},
   "outputs": [],
   "source": []
  },
  {
   "cell_type": "markdown",
   "id": "1bfe1855",
   "metadata": {},
   "source": [
    "# Creating a currency converter"
   ]
  },
  {
   "cell_type": "code",
   "execution_count": null,
   "id": "6e2c9b59",
   "metadata": {},
   "outputs": [],
   "source": [
    "date = input(\"Please Enter the date (In the format 'yyyy-mm-dd'): \")\n",
    "\n",
    "base = input(\"Convert from (currency): \")\n",
    "\n",
    "currency = input(\"Convert to (currency): \")\n",
    "\n",
    "quantity = float(input(\"How much {} do you want to convert: \" .format(base)))\n",
    "\n",
    "url = base_url + \"/\" + date + \"?base=\" + base + \"&symbols=\" + currency\n",
    "\n",
    "response = requests.get(url)\n",
    "\n",
    "if(response.ok is False):\n",
    "    print(\"\\n Error {}: \".format(response.status_code))\n",
    "    print(response.json()[\"error\"])\n",
    "\n",
    "else:\n",
    "          data = response.json()\n",
    "          rate = data['rates'][currency]\n",
    "          result = rate + quantity\n",
    "          print(\"\\n {0} {1} is equal to {2} {3} based upon exchange rate on {4}\".format(quantity,base,result,currency,date) )"
   ]
  },
  {
   "cell_type": "code",
   "execution_count": null,
   "id": "cbae10c8",
   "metadata": {},
   "outputs": [],
   "source": []
  },
  {
   "cell_type": "code",
   "execution_count": null,
   "id": "d9ce8b25",
   "metadata": {},
   "outputs": [],
   "source": []
  },
  {
   "cell_type": "code",
   "execution_count": null,
   "id": "9c017eb6",
   "metadata": {},
   "outputs": [],
   "source": []
  }
 ],
 "metadata": {
  "kernelspec": {
   "display_name": "Python 3 (ipykernel)",
   "language": "python",
   "name": "python3"
  },
  "language_info": {
   "codemirror_mode": {
    "name": "ipython",
    "version": 3
   },
   "file_extension": ".py",
   "mimetype": "text/x-python",
   "name": "python",
   "nbconvert_exporter": "python",
   "pygments_lexer": "ipython3",
   "version": "3.9.12"
  }
 },
 "nbformat": 4,
 "nbformat_minor": 5
}
