{
 "cells": [
  {
   "cell_type": "code",
   "execution_count": 139,
   "id": "c6c644fd",
   "metadata": {},
   "outputs": [],
   "source": [
    "base_url = \"https://api.exchangerate.host/latest\""
   ]
  },
  {
   "cell_type": "code",
   "execution_count": 140,
   "id": "aed79130",
   "metadata": {},
   "outputs": [
    {
     "data": {
      "text/plain": [
       "True"
      ]
     },
     "execution_count": 140,
     "metadata": {},
     "output_type": "execute_result"
    }
   ],
   "source": [
    "import requests\n",
    "\n",
    "response = requests.get(base_url)\n",
    "\n",
    "response.ok"
   ]
  },
  {
   "cell_type": "code",
   "execution_count": 141,
   "id": "19e8592a",
   "metadata": {},
   "outputs": [
    {
     "data": {
      "text/plain": [
       "200"
      ]
     },
     "execution_count": 141,
     "metadata": {},
     "output_type": "execute_result"
    }
   ],
   "source": [
    "response.status_code"
   ]
  },
  {
   "cell_type": "markdown",
   "id": "3811782d",
   "metadata": {},
   "source": [
    "# Handling Jason"
   ]
  },
  {
   "cell_type": "code",
   "execution_count": 142,
   "id": "a07f9aa8",
   "metadata": {},
   "outputs": [
    {
     "data": {
      "text/plain": [
       "{'motd': {'msg': 'If you or your company use this project or like what we doing, please consider backing us so we can continue maintaining and evolving this project.',\n",
       "  'url': 'https://exchangerate.host/#/donate'},\n",
       " 'success': True,\n",
       " 'base': 'EUR',\n",
       " 'date': '2022-01-10',\n",
       " 'rates': {'AED': 4.167972,\n",
       "  'AFN': 118.91123,\n",
       "  'ALL': 121.353306,\n",
       "  'AMD': 546.175542,\n",
       "  'ANG': 2.035384,\n",
       "  'AOA': 629.106987,\n",
       "  'ARS': 116.624363,\n",
       "  'AUD': 1.580224,\n",
       "  'AWG': 2.042846,\n",
       "  'AZN': 1.92923,\n",
       "  'BAM': 1.95468,\n",
       "  'BBD': 2.26981,\n",
       "  'BDT': 97.024176,\n",
       "  'BGN': 1.956957,\n",
       "  'BHD': 0.428175,\n",
       "  'BIF': 2257.462616,\n",
       "  'BMD': 1.134504,\n",
       "  'BND': 1.534691,\n",
       "  'BOB': 7.773946,\n",
       "  'BRL': 6.394753,\n",
       "  'BSD': 1.134916,\n",
       "  'BTC': 2.7e-05,\n",
       "  'BTN': 83.896824,\n",
       "  'BWP': 13.167125,\n",
       "  'BYN': 2.923555,\n",
       "  'BZD': 2.275872,\n",
       "  'CAD': 1.43548,\n",
       "  'CDF': 2267.574646,\n",
       "  'CHF': 1.042792,\n",
       "  'CLF': 0.034225,\n",
       "  'CLP': 941.616881,\n",
       "  'CNH': 7.241721,\n",
       "  'CNY': 7.236723,\n",
       "  'COP': 4557.975201,\n",
       "  'CRC': 725.044091,\n",
       "  'CUC': 1.134918,\n",
       "  'CUP': 29.21611,\n",
       "  'CVE': 110.625693,\n",
       "  'CZK': 24.482429,\n",
       "  'DJF': 201.13679,\n",
       "  'DKK': 7.434868,\n",
       "  'DOP': 64.901656,\n",
       "  'DZD': 158.280482,\n",
       "  'EGP': 17.843938,\n",
       "  'ERN': 17.020453,\n",
       "  'ETB': 55.999814,\n",
       "  'EUR': 1,\n",
       "  'FJD': 2.42404,\n",
       "  'FKP': 0.835406,\n",
       "  'GBP': 0.835125,\n",
       "  'GEL': 3.511961,\n",
       "  'GGP': 0.834768,\n",
       "  'GHS': 6.985239,\n",
       "  'GIP': 0.835308,\n",
       "  'GMD': 59.908167,\n",
       "  'GNF': 10310.325511,\n",
       "  'GTQ': 8.717436,\n",
       "  'GYD': 236.218513,\n",
       "  'HKD': 8.848006,\n",
       "  'HNL': 27.729492,\n",
       "  'HRK': 7.512075,\n",
       "  'HTG': 112.879664,\n",
       "  'HUF': 358.641436,\n",
       "  'IDR': 16275.841054,\n",
       "  'ILS': 3.533915,\n",
       "  'IMP': 0.834777,\n",
       "  'INR': 84.252624,\n",
       "  'IQD': 1649.604793,\n",
       "  'IRR': 47937.568235,\n",
       "  'ISK': 145.82329,\n",
       "  'JEP': 0.835189,\n",
       "  'JMD': 174.364535,\n",
       "  'JOD': 0.805272,\n",
       "  'JPY': 131.218037,\n",
       "  'KES': 128.036507,\n",
       "  'KGS': 96.217604,\n",
       "  'KHR': 4605.389136,\n",
       "  'KMF': 491.857347,\n",
       "  'KPW': 1021.155366,\n",
       "  'KRW': 1358.860035,\n",
       "  'KWD': 0.344389,\n",
       "  'KYD': 0.940791,\n",
       "  'KZT': 491.643437,\n",
       "  'LAK': 12716.408742,\n",
       "  'LBP': 1709.471314,\n",
       "  'LKR': 229.055318,\n",
       "  'LRD': 166.931518,\n",
       "  'LSL': 17.691203,\n",
       "  'LYD': 5.197975,\n",
       "  'MAD': 10.488441,\n",
       "  'MDL': 20.255297,\n",
       "  'MGA': 4490.077245,\n",
       "  'MKD': 61.539878,\n",
       "  'MMK': 2007.438252,\n",
       "  'MNT': 3245.768352,\n",
       "  'MOP': 9.070968,\n",
       "  'MRU': 41.206654,\n",
       "  'MUR': 49.586305,\n",
       "  'MVR': 17.530481,\n",
       "  'MWK': 922.912667,\n",
       "  'MXN': 23.13343,\n",
       "  'MYR': 4.776445,\n",
       "  'MZN': 72.436403,\n",
       "  'NAD': 17.740199,\n",
       "  'NGN': 466.297669,\n",
       "  'NIO': 40.087681,\n",
       "  'NOK': 10.032973,\n",
       "  'NPR': 134.234345,\n",
       "  'NZD': 1.675945,\n",
       "  'OMR': 0.43711,\n",
       "  'PAB': 1.13529,\n",
       "  'PEN': 4.483399,\n",
       "  'PGK': 3.974516,\n",
       "  'PHP': 58.23784,\n",
       "  'PKR': 199.676707,\n",
       "  'PLN': 4.543837,\n",
       "  'PYG': 7851.52161,\n",
       "  'QAR': 4.128111,\n",
       "  'RON': 4.942597,\n",
       "  'RSD': 117.434489,\n",
       "  'RUB': 85.713452,\n",
       "  'RWF': 1167.794699,\n",
       "  'SAR': 4.260263,\n",
       "  'SBD': 9.177253,\n",
       "  'SCR': 16.044365,\n",
       "  'SDG': 496.394981,\n",
       "  'SEK': 10.28587,\n",
       "  'SGD': 1.539941,\n",
       "  'SHP': 0.835267,\n",
       "  'SLL': 12846.701445,\n",
       "  'SOS': 656.962221,\n",
       "  'SRD': 24.125055,\n",
       "  'SSP': 147.796374,\n",
       "  'STD': 24016.370008,\n",
       "  'STN': 24.7925,\n",
       "  'SVC': 9.879232,\n",
       "  'SYP': 2850.726178,\n",
       "  'SZL': 17.656436,\n",
       "  'THB': 38.148614,\n",
       "  'TJS': 12.752358,\n",
       "  'TMT': 3.971961,\n",
       "  'TND': 3.269203,\n",
       "  'TOP': 2.593164,\n",
       "  'TRY': 15.652978,\n",
       "  'TTD': 7.663484,\n",
       "  'TWD': 31.337263,\n",
       "  'TZS': 2608.405795,\n",
       "  'UAH': 31.044271,\n",
       "  'UGX': 4002.460722,\n",
       "  'USD': 1.134921,\n",
       "  'UYU': 50.621499,\n",
       "  'UZS': 12224.293542,\n",
       "  'VES': 5.253942,\n",
       "  'VND': 25745.791801,\n",
       "  'VUV': 128.423298,\n",
       "  'WST': 2.952009,\n",
       "  'XAF': 655.55191,\n",
       "  'XAG': 0.051731,\n",
       "  'XAU': 0.001331,\n",
       "  'XCD': 3.066625,\n",
       "  'XDR': 0.808399,\n",
       "  'XOF': 655.551372,\n",
       "  'XPD': 0.00198,\n",
       "  'XPF': 119.258701,\n",
       "  'XPT': 0.001161,\n",
       "  'YER': 283.938949,\n",
       "  'ZAR': 17.674907,\n",
       "  'ZMW': 19.030663,\n",
       "  'ZWL': 365.34784}}"
      ]
     },
     "execution_count": 142,
     "metadata": {},
     "output_type": "execute_result"
    }
   ],
   "source": [
    "response.json()\n"
   ]
  },
  {
   "cell_type": "code",
   "execution_count": 143,
   "id": "4019b3a7",
   "metadata": {},
   "outputs": [
    {
     "data": {
      "text/plain": [
       "dict"
      ]
     },
     "execution_count": 143,
     "metadata": {},
     "output_type": "execute_result"
    }
   ],
   "source": [
    "type(response.json())"
   ]
  },
  {
   "cell_type": "code",
   "execution_count": 144,
   "id": "d9abd7bc",
   "metadata": {},
   "outputs": [],
   "source": [
    "import json"
   ]
  },
  {
   "cell_type": "code",
   "execution_count": 145,
   "id": "e1fe0ac2",
   "metadata": {},
   "outputs": [
    {
     "data": {
      "text/plain": [
       "'{\\n  \"motd\": {\\n    \"msg\": \"If you or your company use this project or like what we doing, please consider backing us so we can continue maintaining and evolving this project.\",\\n    \"url\": \"https://exchangerate.host/#/donate\"\\n  },\\n  \"success\": true,\\n  \"base\": \"EUR\",\\n  \"date\": \"2022-01-10\",\\n  \"rates\": {\\n    \"AED\": 4.167972,\\n    \"AFN\": 118.91123,\\n    \"ALL\": 121.353306,\\n    \"AMD\": 546.175542,\\n    \"ANG\": 2.035384,\\n    \"AOA\": 629.106987,\\n    \"ARS\": 116.624363,\\n    \"AUD\": 1.580224,\\n    \"AWG\": 2.042846,\\n    \"AZN\": 1.92923,\\n    \"BAM\": 1.95468,\\n    \"BBD\": 2.26981,\\n    \"BDT\": 97.024176,\\n    \"BGN\": 1.956957,\\n    \"BHD\": 0.428175,\\n    \"BIF\": 2257.462616,\\n    \"BMD\": 1.134504,\\n    \"BND\": 1.534691,\\n    \"BOB\": 7.773946,\\n    \"BRL\": 6.394753,\\n    \"BSD\": 1.134916,\\n    \"BTC\": 2.7e-05,\\n    \"BTN\": 83.896824,\\n    \"BWP\": 13.167125,\\n    \"BYN\": 2.923555,\\n    \"BZD\": 2.275872,\\n    \"CAD\": 1.43548,\\n    \"CDF\": 2267.574646,\\n    \"CHF\": 1.042792,\\n    \"CLF\": 0.034225,\\n    \"CLP\": 941.616881,\\n    \"CNH\": 7.241721,\\n    \"CNY\": 7.236723,\\n    \"COP\": 4557.975201,\\n    \"CRC\": 725.044091,\\n    \"CUC\": 1.134918,\\n    \"CUP\": 29.21611,\\n    \"CVE\": 110.625693,\\n    \"CZK\": 24.482429,\\n    \"DJF\": 201.13679,\\n    \"DKK\": 7.434868,\\n    \"DOP\": 64.901656,\\n    \"DZD\": 158.280482,\\n    \"EGP\": 17.843938,\\n    \"ERN\": 17.020453,\\n    \"ETB\": 55.999814,\\n    \"EUR\": 1,\\n    \"FJD\": 2.42404,\\n    \"FKP\": 0.835406,\\n    \"GBP\": 0.835125,\\n    \"GEL\": 3.511961,\\n    \"GGP\": 0.834768,\\n    \"GHS\": 6.985239,\\n    \"GIP\": 0.835308,\\n    \"GMD\": 59.908167,\\n    \"GNF\": 10310.325511,\\n    \"GTQ\": 8.717436,\\n    \"GYD\": 236.218513,\\n    \"HKD\": 8.848006,\\n    \"HNL\": 27.729492,\\n    \"HRK\": 7.512075,\\n    \"HTG\": 112.879664,\\n    \"HUF\": 358.641436,\\n    \"IDR\": 16275.841054,\\n    \"ILS\": 3.533915,\\n    \"IMP\": 0.834777,\\n    \"INR\": 84.252624,\\n    \"IQD\": 1649.604793,\\n    \"IRR\": 47937.568235,\\n    \"ISK\": 145.82329,\\n    \"JEP\": 0.835189,\\n    \"JMD\": 174.364535,\\n    \"JOD\": 0.805272,\\n    \"JPY\": 131.218037,\\n    \"KES\": 128.036507,\\n    \"KGS\": 96.217604,\\n    \"KHR\": 4605.389136,\\n    \"KMF\": 491.857347,\\n    \"KPW\": 1021.155366,\\n    \"KRW\": 1358.860035,\\n    \"KWD\": 0.344389,\\n    \"KYD\": 0.940791,\\n    \"KZT\": 491.643437,\\n    \"LAK\": 12716.408742,\\n    \"LBP\": 1709.471314,\\n    \"LKR\": 229.055318,\\n    \"LRD\": 166.931518,\\n    \"LSL\": 17.691203,\\n    \"LYD\": 5.197975,\\n    \"MAD\": 10.488441,\\n    \"MDL\": 20.255297,\\n    \"MGA\": 4490.077245,\\n    \"MKD\": 61.539878,\\n    \"MMK\": 2007.438252,\\n    \"MNT\": 3245.768352,\\n    \"MOP\": 9.070968,\\n    \"MRU\": 41.206654,\\n    \"MUR\": 49.586305,\\n    \"MVR\": 17.530481,\\n    \"MWK\": 922.912667,\\n    \"MXN\": 23.13343,\\n    \"MYR\": 4.776445,\\n    \"MZN\": 72.436403,\\n    \"NAD\": 17.740199,\\n    \"NGN\": 466.297669,\\n    \"NIO\": 40.087681,\\n    \"NOK\": 10.032973,\\n    \"NPR\": 134.234345,\\n    \"NZD\": 1.675945,\\n    \"OMR\": 0.43711,\\n    \"PAB\": 1.13529,\\n    \"PEN\": 4.483399,\\n    \"PGK\": 3.974516,\\n    \"PHP\": 58.23784,\\n    \"PKR\": 199.676707,\\n    \"PLN\": 4.543837,\\n    \"PYG\": 7851.52161,\\n    \"QAR\": 4.128111,\\n    \"RON\": 4.942597,\\n    \"RSD\": 117.434489,\\n    \"RUB\": 85.713452,\\n    \"RWF\": 1167.794699,\\n    \"SAR\": 4.260263,\\n    \"SBD\": 9.177253,\\n    \"SCR\": 16.044365,\\n    \"SDG\": 496.394981,\\n    \"SEK\": 10.28587,\\n    \"SGD\": 1.539941,\\n    \"SHP\": 0.835267,\\n    \"SLL\": 12846.701445,\\n    \"SOS\": 656.962221,\\n    \"SRD\": 24.125055,\\n    \"SSP\": 147.796374,\\n    \"STD\": 24016.370008,\\n    \"STN\": 24.7925,\\n    \"SVC\": 9.879232,\\n    \"SYP\": 2850.726178,\\n    \"SZL\": 17.656436,\\n    \"THB\": 38.148614,\\n    \"TJS\": 12.752358,\\n    \"TMT\": 3.971961,\\n    \"TND\": 3.269203,\\n    \"TOP\": 2.593164,\\n    \"TRY\": 15.652978,\\n    \"TTD\": 7.663484,\\n    \"TWD\": 31.337263,\\n    \"TZS\": 2608.405795,\\n    \"UAH\": 31.044271,\\n    \"UGX\": 4002.460722,\\n    \"USD\": 1.134921,\\n    \"UYU\": 50.621499,\\n    \"UZS\": 12224.293542,\\n    \"VES\": 5.253942,\\n    \"VND\": 25745.791801,\\n    \"VUV\": 128.423298,\\n    \"WST\": 2.952009,\\n    \"XAF\": 655.55191,\\n    \"XAG\": 0.051731,\\n    \"XAU\": 0.001331,\\n    \"XCD\": 3.066625,\\n    \"XDR\": 0.808399,\\n    \"XOF\": 655.551372,\\n    \"XPD\": 0.00198,\\n    \"XPF\": 119.258701,\\n    \"XPT\": 0.001161,\\n    \"YER\": 283.938949,\\n    \"ZAR\": 17.674907,\\n    \"ZMW\": 19.030663,\\n    \"ZWL\": 365.34784\\n  }\\n}'"
      ]
     },
     "execution_count": 145,
     "metadata": {},
     "output_type": "execute_result"
    }
   ],
   "source": [
    "json.dumps(response.json(), indent = 2)"
   ]
  },
  {
   "cell_type": "code",
   "execution_count": 146,
   "id": "a51f8384",
   "metadata": {},
   "outputs": [
    {
     "name": "stdout",
     "output_type": "stream",
     "text": [
      "{\n",
      "      \"motd\": {\n",
      "            \"msg\": \"If you or your company use this project or like what we doing, please consider backing us so we can continue maintaining and evolving this project.\",\n",
      "            \"url\": \"https://exchangerate.host/#/donate\"\n",
      "      },\n",
      "      \"success\": true,\n",
      "      \"base\": \"EUR\",\n",
      "      \"date\": \"2022-01-10\",\n",
      "      \"rates\": {\n",
      "            \"AED\": 4.167972,\n",
      "            \"AFN\": 118.91123,\n",
      "            \"ALL\": 121.353306,\n",
      "            \"AMD\": 546.175542,\n",
      "            \"ANG\": 2.035384,\n",
      "            \"AOA\": 629.106987,\n",
      "            \"ARS\": 116.624363,\n",
      "            \"AUD\": 1.580224,\n",
      "            \"AWG\": 2.042846,\n",
      "            \"AZN\": 1.92923,\n",
      "            \"BAM\": 1.95468,\n",
      "            \"BBD\": 2.26981,\n",
      "            \"BDT\": 97.024176,\n",
      "            \"BGN\": 1.956957,\n",
      "            \"BHD\": 0.428175,\n",
      "            \"BIF\": 2257.462616,\n",
      "            \"BMD\": 1.134504,\n",
      "            \"BND\": 1.534691,\n",
      "            \"BOB\": 7.773946,\n",
      "            \"BRL\": 6.394753,\n",
      "            \"BSD\": 1.134916,\n",
      "            \"BTC\": 2.7e-05,\n",
      "            \"BTN\": 83.896824,\n",
      "            \"BWP\": 13.167125,\n",
      "            \"BYN\": 2.923555,\n",
      "            \"BZD\": 2.275872,\n",
      "            \"CAD\": 1.43548,\n",
      "            \"CDF\": 2267.574646,\n",
      "            \"CHF\": 1.042792,\n",
      "            \"CLF\": 0.034225,\n",
      "            \"CLP\": 941.616881,\n",
      "            \"CNH\": 7.241721,\n",
      "            \"CNY\": 7.236723,\n",
      "            \"COP\": 4557.975201,\n",
      "            \"CRC\": 725.044091,\n",
      "            \"CUC\": 1.134918,\n",
      "            \"CUP\": 29.21611,\n",
      "            \"CVE\": 110.625693,\n",
      "            \"CZK\": 24.482429,\n",
      "            \"DJF\": 201.13679,\n",
      "            \"DKK\": 7.434868,\n",
      "            \"DOP\": 64.901656,\n",
      "            \"DZD\": 158.280482,\n",
      "            \"EGP\": 17.843938,\n",
      "            \"ERN\": 17.020453,\n",
      "            \"ETB\": 55.999814,\n",
      "            \"EUR\": 1,\n",
      "            \"FJD\": 2.42404,\n",
      "            \"FKP\": 0.835406,\n",
      "            \"GBP\": 0.835125,\n",
      "            \"GEL\": 3.511961,\n",
      "            \"GGP\": 0.834768,\n",
      "            \"GHS\": 6.985239,\n",
      "            \"GIP\": 0.835308,\n",
      "            \"GMD\": 59.908167,\n",
      "            \"GNF\": 10310.325511,\n",
      "            \"GTQ\": 8.717436,\n",
      "            \"GYD\": 236.218513,\n",
      "            \"HKD\": 8.848006,\n",
      "            \"HNL\": 27.729492,\n",
      "            \"HRK\": 7.512075,\n",
      "            \"HTG\": 112.879664,\n",
      "            \"HUF\": 358.641436,\n",
      "            \"IDR\": 16275.841054,\n",
      "            \"ILS\": 3.533915,\n",
      "            \"IMP\": 0.834777,\n",
      "            \"INR\": 84.252624,\n",
      "            \"IQD\": 1649.604793,\n",
      "            \"IRR\": 47937.568235,\n",
      "            \"ISK\": 145.82329,\n",
      "            \"JEP\": 0.835189,\n",
      "            \"JMD\": 174.364535,\n",
      "            \"JOD\": 0.805272,\n",
      "            \"JPY\": 131.218037,\n",
      "            \"KES\": 128.036507,\n",
      "            \"KGS\": 96.217604,\n",
      "            \"KHR\": 4605.389136,\n",
      "            \"KMF\": 491.857347,\n",
      "            \"KPW\": 1021.155366,\n",
      "            \"KRW\": 1358.860035,\n",
      "            \"KWD\": 0.344389,\n",
      "            \"KYD\": 0.940791,\n",
      "            \"KZT\": 491.643437,\n",
      "            \"LAK\": 12716.408742,\n",
      "            \"LBP\": 1709.471314,\n",
      "            \"LKR\": 229.055318,\n",
      "            \"LRD\": 166.931518,\n",
      "            \"LSL\": 17.691203,\n",
      "            \"LYD\": 5.197975,\n",
      "            \"MAD\": 10.488441,\n",
      "            \"MDL\": 20.255297,\n",
      "            \"MGA\": 4490.077245,\n",
      "            \"MKD\": 61.539878,\n",
      "            \"MMK\": 2007.438252,\n",
      "            \"MNT\": 3245.768352,\n",
      "            \"MOP\": 9.070968,\n",
      "            \"MRU\": 41.206654,\n",
      "            \"MUR\": 49.586305,\n",
      "            \"MVR\": 17.530481,\n",
      "            \"MWK\": 922.912667,\n",
      "            \"MXN\": 23.13343,\n",
      "            \"MYR\": 4.776445,\n",
      "            \"MZN\": 72.436403,\n",
      "            \"NAD\": 17.740199,\n",
      "            \"NGN\": 466.297669,\n",
      "            \"NIO\": 40.087681,\n",
      "            \"NOK\": 10.032973,\n",
      "            \"NPR\": 134.234345,\n",
      "            \"NZD\": 1.675945,\n",
      "            \"OMR\": 0.43711,\n",
      "            \"PAB\": 1.13529,\n",
      "            \"PEN\": 4.483399,\n",
      "            \"PGK\": 3.974516,\n",
      "            \"PHP\": 58.23784,\n",
      "            \"PKR\": 199.676707,\n",
      "            \"PLN\": 4.543837,\n",
      "            \"PYG\": 7851.52161,\n",
      "            \"QAR\": 4.128111,\n",
      "            \"RON\": 4.942597,\n",
      "            \"RSD\": 117.434489,\n",
      "            \"RUB\": 85.713452,\n",
      "            \"RWF\": 1167.794699,\n",
      "            \"SAR\": 4.260263,\n",
      "            \"SBD\": 9.177253,\n",
      "            \"SCR\": 16.044365,\n",
      "            \"SDG\": 496.394981,\n",
      "            \"SEK\": 10.28587,\n",
      "            \"SGD\": 1.539941,\n",
      "            \"SHP\": 0.835267,\n",
      "            \"SLL\": 12846.701445,\n",
      "            \"SOS\": 656.962221,\n",
      "            \"SRD\": 24.125055,\n",
      "            \"SSP\": 147.796374,\n",
      "            \"STD\": 24016.370008,\n",
      "            \"STN\": 24.7925,\n",
      "            \"SVC\": 9.879232,\n",
      "            \"SYP\": 2850.726178,\n",
      "            \"SZL\": 17.656436,\n",
      "            \"THB\": 38.148614,\n",
      "            \"TJS\": 12.752358,\n",
      "            \"TMT\": 3.971961,\n",
      "            \"TND\": 3.269203,\n",
      "            \"TOP\": 2.593164,\n",
      "            \"TRY\": 15.652978,\n",
      "            \"TTD\": 7.663484,\n",
      "            \"TWD\": 31.337263,\n",
      "            \"TZS\": 2608.405795,\n",
      "            \"UAH\": 31.044271,\n",
      "            \"UGX\": 4002.460722,\n",
      "            \"USD\": 1.134921,\n",
      "            \"UYU\": 50.621499,\n",
      "            \"UZS\": 12224.293542,\n",
      "            \"VES\": 5.253942,\n",
      "            \"VND\": 25745.791801,\n",
      "            \"VUV\": 128.423298,\n",
      "            \"WST\": 2.952009,\n",
      "            \"XAF\": 655.55191,\n",
      "            \"XAG\": 0.051731,\n",
      "            \"XAU\": 0.001331,\n",
      "            \"XCD\": 3.066625,\n",
      "            \"XDR\": 0.808399,\n",
      "            \"XOF\": 655.551372,\n",
      "            \"XPD\": 0.00198,\n",
      "            \"XPF\": 119.258701,\n",
      "            \"XPT\": 0.001161,\n",
      "            \"YER\": 283.938949,\n",
      "            \"ZAR\": 17.674907,\n",
      "            \"ZMW\": 19.030663,\n",
      "            \"ZWL\": 365.34784\n",
      "      }\n",
      "}\n"
     ]
    }
   ],
   "source": [
    "print(json.dumps(response.json(), indent = 6))"
   ]
  },
  {
   "cell_type": "code",
   "execution_count": 147,
   "id": "9a6e5238",
   "metadata": {},
   "outputs": [
    {
     "data": {
      "text/plain": [
       "dict_keys(['motd', 'success', 'base', 'date', 'rates'])"
      ]
     },
     "execution_count": 147,
     "metadata": {},
     "output_type": "execute_result"
    }
   ],
   "source": [
    "response.json().keys()\n",
    "           "
   ]
  },
  {
   "cell_type": "markdown",
   "id": "7202e51e",
   "metadata": {},
   "source": [
    "# Incoporating parameters in GET request"
   ]
  },
  {
   "cell_type": "code",
   "execution_count": 148,
   "id": "81693060",
   "metadata": {},
   "outputs": [
    {
     "data": {
      "text/plain": [
       "'https://api.exchangerate.host/latest?symbols=USD,GBP'"
      ]
     },
     "execution_count": 148,
     "metadata": {},
     "output_type": "execute_result"
    }
   ],
   "source": [
    "param_url = base_url + \"?symbols=USD,GBP\"\n",
    "\n",
    "param_url"
   ]
  },
  {
   "cell_type": "code",
   "execution_count": 149,
   "id": "b40ee5da",
   "metadata": {},
   "outputs": [
    {
     "data": {
      "text/plain": [
       "<Response [200]>"
      ]
     },
     "execution_count": 149,
     "metadata": {},
     "output_type": "execute_result"
    }
   ],
   "source": [
    "response  = requests.get(param_url)\n",
    "response"
   ]
  },
  {
   "cell_type": "code",
   "execution_count": 150,
   "id": "20e78a25",
   "metadata": {},
   "outputs": [
    {
     "data": {
      "text/plain": [
       "{'motd': {'msg': 'If you or your company use this project or like what we doing, please consider backing us so we can continue maintaining and evolving this project.',\n",
       "  'url': 'https://exchangerate.host/#/donate'},\n",
       " 'success': True,\n",
       " 'base': 'EUR',\n",
       " 'date': '2022-11-17',\n",
       " 'rates': {'GBP': 0.872062, 'USD': 1.037368}}"
      ]
     },
     "execution_count": 150,
     "metadata": {},
     "output_type": "execute_result"
    }
   ],
   "source": [
    "data = response.json()\n",
    "data"
   ]
  },
  {
   "cell_type": "code",
   "execution_count": 151,
   "id": "770fe2c5",
   "metadata": {},
   "outputs": [
    {
     "data": {
      "text/plain": [
       "'EUR'"
      ]
     },
     "execution_count": 151,
     "metadata": {},
     "output_type": "execute_result"
    }
   ],
   "source": [
    "data[\"base\"]"
   ]
  },
  {
   "cell_type": "code",
   "execution_count": 152,
   "id": "7b90a21e",
   "metadata": {},
   "outputs": [
    {
     "data": {
      "text/plain": [
       "'2022-11-17'"
      ]
     },
     "execution_count": 152,
     "metadata": {},
     "output_type": "execute_result"
    }
   ],
   "source": [
    "data[\"date\"]"
   ]
  },
  {
   "cell_type": "code",
   "execution_count": 153,
   "id": "6887bc41",
   "metadata": {},
   "outputs": [
    {
     "data": {
      "text/plain": [
       "1.037368"
      ]
     },
     "execution_count": 153,
     "metadata": {},
     "output_type": "execute_result"
    }
   ],
   "source": [
    "Euros_to_USD = data[\"rates\"][\"USD\"]\n",
    "\n",
    "Euros_to_USD"
   ]
  },
  {
   "cell_type": "code",
   "execution_count": 154,
   "id": "b2a77f0b",
   "metadata": {},
   "outputs": [],
   "source": [
    "param_url2 = base_url + \"?symbols=GBP\" + \"&\" + \"base=USD\""
   ]
  },
  {
   "cell_type": "code",
   "execution_count": 155,
   "id": "79376bf4",
   "metadata": {},
   "outputs": [
    {
     "data": {
      "text/plain": [
       "'https://api.exchangerate.host/latest?symbols=GBP&base=USD'"
      ]
     },
     "execution_count": 155,
     "metadata": {},
     "output_type": "execute_result"
    }
   ],
   "source": [
    "param_url2"
   ]
  },
  {
   "cell_type": "code",
   "execution_count": 156,
   "id": "a26f1613",
   "metadata": {},
   "outputs": [
    {
     "data": {
      "text/plain": [
       "{'motd': {'msg': 'If you or your company use this project or like what we doing, please consider backing us so we can continue maintaining and evolving this project.',\n",
       "  'url': 'https://exchangerate.host/#/donate'},\n",
       " 'success': True,\n",
       " 'base': 'USD',\n",
       " 'date': '2022-11-17',\n",
       " 'rates': {'GBP': 0.840648}}"
      ]
     },
     "execution_count": 156,
     "metadata": {},
     "output_type": "execute_result"
    }
   ],
   "source": [
    "response_new = requests.get(param_url2).json()\n",
    "response_new"
   ]
  },
  {
   "cell_type": "code",
   "execution_count": null,
   "id": "25fe968e",
   "metadata": {},
   "outputs": [],
   "source": []
  },
  {
   "cell_type": "markdown",
   "id": "504eff7e",
   "metadata": {},
   "source": [
    "# Obtaining Historical Exchange Rate"
   ]
  },
  {
   "cell_type": "code",
   "execution_count": 157,
   "id": "61df11c6",
   "metadata": {},
   "outputs": [
    {
     "data": {
      "text/plain": [
       "'https://api.exchangerate.host/2016-01-26'"
      ]
     },
     "execution_count": 157,
     "metadata": {},
     "output_type": "execute_result"
    }
   ],
   "source": [
    "base_url = \"https://api.exchangerate.host\"\n",
    "\n",
    "historical_url = base_url + \"/2016-01-26\"\n",
    "\n",
    "historical_url"
   ]
  },
  {
   "cell_type": "code",
   "execution_count": 158,
   "id": "6012a71e",
   "metadata": {},
   "outputs": [
    {
     "data": {
      "text/plain": [
       "<Response [200]>"
      ]
     },
     "execution_count": 158,
     "metadata": {},
     "output_type": "execute_result"
    }
   ],
   "source": [
    "response = requests.get(historical_url)\n",
    "\n",
    "response"
   ]
  },
  {
   "cell_type": "code",
   "execution_count": 159,
   "id": "d37fa6dc",
   "metadata": {},
   "outputs": [],
   "source": [
    "data = response.json()"
   ]
  },
  {
   "cell_type": "code",
   "execution_count": 160,
   "id": "40ed0911",
   "metadata": {},
   "outputs": [
    {
     "name": "stdout",
     "output_type": "stream",
     "text": [
      "{\n",
      "      \"motd\": {\n",
      "            \"msg\": \"If you or your company use this project or like what we doing, please consider backing us so we can continue maintaining and evolving this project.\",\n",
      "            \"url\": \"https://exchangerate.host/#/donate\"\n",
      "      },\n",
      "      \"success\": true,\n",
      "      \"historical\": true,\n",
      "      \"base\": \"EUR\",\n",
      "      \"date\": \"2016-01-26\",\n",
      "      \"rates\": {\n",
      "            \"USD\": 1.0853,\n",
      "            \"JPY\": 128.295,\n",
      "            \"BGN\": 1.9484,\n",
      "            \"CZK\": 27,\n",
      "            \"DKK\": 7.4617,\n",
      "            \"GBP\": 0.762,\n",
      "            \"HUF\": 311.9,\n",
      "            \"PLN\": 4.4728,\n",
      "            \"RON\": 4.5278,\n",
      "            \"SEK\": 9.2876,\n",
      "            \"CHF\": 1.0987,\n",
      "            \"NOK\": 9.5015,\n",
      "            \"HRK\": 7.6593,\n",
      "            \"RUB\": 86.1494,\n",
      "            \"TRY\": 3.2802,\n",
      "            \"AUD\": 1.5643,\n",
      "            \"BRL\": 4.4349,\n",
      "            \"CAD\": 1.5515,\n",
      "            \"CNY\": 7.1273,\n",
      "            \"HKD\": 8.4574,\n",
      "            \"IDR\": 14776.9004,\n",
      "            \"ILS\": 4.3092,\n",
      "            \"INR\": 73.441,\n",
      "            \"KRW\": 1299.5699,\n",
      "            \"MXN\": 20.2018,\n",
      "            \"MYR\": 4.5684,\n",
      "            \"NZD\": 1.6848,\n",
      "            \"PHP\": 51.937,\n",
      "            \"SGD\": 1.5528,\n",
      "            \"THB\": 39.0046,\n",
      "            \"ZAR\": 17.9418,\n",
      "            \"EUR\": 1,\n",
      "            \"AED\": 3.9821,\n",
      "            \"AFN\": 73.19,\n",
      "            \"ALL\": 134.8,\n",
      "            \"ARS\": 14.9236,\n",
      "            \"BAM\": 1.9458,\n",
      "            \"BBD\": 2.1189,\n",
      "            \"BDT\": 83.0919,\n",
      "            \"BHD\": 0.4055,\n",
      "            \"BIF\": 1654.26,\n",
      "            \"BMD\": 1.0787,\n",
      "            \"BND\": 1.5212,\n",
      "            \"BOB\": 7.275,\n",
      "            \"BSD\": 1.0748,\n",
      "            \"BWP\": 12.3896,\n",
      "            \"BZD\": 2.1081,\n",
      "            \"CLP\": 760.288,\n",
      "            \"COP\": 3529.1001,\n",
      "            \"CRC\": 565.94,\n",
      "            \"CUP\": 1.052,\n",
      "            \"CVE\": 110.265,\n",
      "            \"DJF\": 187.68,\n",
      "            \"DOP\": 48.469,\n",
      "            \"DZD\": 116.116,\n",
      "            \"EGP\": 8.469,\n",
      "            \"ETB\": 22.7263,\n",
      "            \"FJD\": 2.3395,\n",
      "            \"GHS\": 4.2681,\n",
      "            \"GNF\": 8275.2998,\n",
      "            \"GTQ\": 8.0723,\n",
      "            \"HNL\": 23.851,\n",
      "            \"HTG\": 62.316,\n",
      "            \"IQD\": 1242.38,\n",
      "            \"ISK\": 141.18,\n",
      "            \"JMD\": 128.786,\n",
      "            \"JOD\": 0.7607,\n",
      "            \"KES\": 109.03,\n",
      "            \"KHR\": 4271.3999,\n",
      "            \"KWD\": 0.3288,\n",
      "            \"KYD\": 0.8814,\n",
      "            \"KZT\": 404.68,\n",
      "            \"LAK\": 8578.9004,\n",
      "            \"LBP\": 1589.7,\n",
      "            \"LKR\": 152.383,\n",
      "            \"LSL\": 17.565,\n",
      "            \"LYD\": 1.4869,\n",
      "            \"MAD\": 10.467,\n",
      "            \"MDL\": 22.0223,\n",
      "            \"MGA\": 3436.55,\n",
      "            \"MKD\": 61.238,\n",
      "            \"MMK\": 1378.89,\n",
      "            \"MOP\": 8.4858,\n",
      "            \"MRO\": 326.37,\n",
      "            \"MUR\": 37.66,\n",
      "            \"MVR\": 16.201,\n",
      "            \"MWK\": 766.264,\n",
      "            \"NAD\": 17.565,\n",
      "            \"NGN\": 212.54,\n",
      "            \"NIO\": 29.2,\n",
      "            \"NPR\": 115.58,\n",
      "            \"OMR\": 0.4161,\n",
      "            \"PAB\": 1.0567,\n",
      "            \"PEN\": 3.6495,\n",
      "            \"PGK\": 3.1849,\n",
      "            \"PKR\": 111.905,\n",
      "            \"PYG\": 6307.1001,\n",
      "            \"QAR\": 3.9462,\n",
      "            \"RSD\": 123.229,\n",
      "            \"RWF\": 792.54,\n",
      "            \"SAR\": 4.0632,\n",
      "            \"SCR\": 13.933,\n",
      "            \"SDG\": 6.5488,\n",
      "            \"SOS\": 633.4,\n",
      "            \"STD\": 24500,\n",
      "            \"SVC\": 9.225,\n",
      "            \"SZL\": 17.6214,\n",
      "            \"TND\": 2.2151,\n",
      "            \"TTD\": 6.8226,\n",
      "            \"TWD\": 35.2366,\n",
      "            \"TZS\": 2317.99,\n",
      "            \"UAH\": 26.5279,\n",
      "            \"UGX\": 3717.3999,\n",
      "            \"UYU\": 32.984,\n",
      "            \"UZS\": 3012.3501,\n",
      "            \"VEF\": 6.814,\n",
      "            \"VND\": 23813,\n",
      "            \"XAF\": 655.957,\n",
      "            \"XOF\": 655.957,\n",
      "            \"XPF\": 119.26,\n",
      "            \"ZMW\": 12.1199\n",
      "      }\n",
      "}\n"
     ]
    }
   ],
   "source": [
    "print(json.dumps(data, indent = 6))"
   ]
  },
  {
   "cell_type": "code",
   "execution_count": null,
   "id": "24a2f792",
   "metadata": {},
   "outputs": [],
   "source": []
  },
  {
   "cell_type": "markdown",
   "id": "0611a8a9",
   "metadata": {},
   "source": [
    "# Extracting data for a time period"
   ]
  },
  {
   "cell_type": "code",
   "execution_count": 162,
   "id": "3b1d76e5",
   "metadata": {},
   "outputs": [
    {
     "data": {
      "text/plain": [
       "'https://api.exchangerate.host/timeseries?start_at=2017-04-26&end_at=2018-04-26symbol=GBP'"
      ]
     },
     "execution_count": 162,
     "metadata": {},
     "output_type": "execute_result"
    }
   ],
   "source": [
    "time_period_url = base_url + \"/timeseries\" + \"?start_at=2017-04-26&end_at=2018-04-26\" + \"symbol=GBP\"\n",
    "\n",
    "time_period_url"
   ]
  },
  {
   "cell_type": "code",
   "execution_count": 163,
   "id": "0a6003cb",
   "metadata": {},
   "outputs": [
    {
     "name": "stdout",
     "output_type": "stream",
     "text": [
      "{\n",
      "    \"motd\": {\n",
      "        \"msg\": \"If you or your company use this project or like what we doing, please consider backing us so we can continue maintaining and evolving this project.\",\n",
      "        \"url\": \"https://exchangerate.host/#/donate\"\n",
      "    },\n",
      "    \"success\": true,\n",
      "    \"timeseries\": true,\n",
      "    \"base\": \"EUR\",\n",
      "    \"start_date\": \"2022-11-17\",\n",
      "    \"end_date\": \"2022-11-17\",\n",
      "    \"rates\": {}\n",
      "}\n"
     ]
    }
   ],
   "source": [
    "data  = requests.get(time_period_url).json()\n",
    "\n",
    "print(json.dumps(data, indent =4))"
   ]
  },
  {
   "cell_type": "code",
   "execution_count": 134,
   "id": "d9e311dd",
   "metadata": {},
   "outputs": [],
   "source": [
    " res = requests.get(\"https://api.exchangeratesapi.io/v1/2013-12-24/?access_key=9uCekAdnEZgJj9MvVGCfi9YLz3zPkqPd&base=GBP&symbols=USD,CADEUR\")"
   ]
  },
  {
   "cell_type": "code",
   "execution_count": 135,
   "id": "71fa7574",
   "metadata": {},
   "outputs": [
    {
     "data": {
      "text/plain": [
       "False"
      ]
     },
     "execution_count": 135,
     "metadata": {},
     "output_type": "execute_result"
    }
   ],
   "source": [
    "res.ok"
   ]
  },
  {
   "cell_type": "code",
   "execution_count": null,
   "id": "cd670f80",
   "metadata": {},
   "outputs": [],
   "source": []
  }
 ],
 "metadata": {
  "kernelspec": {
   "display_name": "Python 3 (ipykernel)",
   "language": "python",
   "name": "python3"
  },
  "language_info": {
   "codemirror_mode": {
    "name": "ipython",
    "version": 3
   },
   "file_extension": ".py",
   "mimetype": "text/x-python",
   "name": "python",
   "nbconvert_exporter": "python",
   "pygments_lexer": "ipython3",
   "version": "3.9.12"
  }
 },
 "nbformat": 4,
 "nbformat_minor": 5
}
