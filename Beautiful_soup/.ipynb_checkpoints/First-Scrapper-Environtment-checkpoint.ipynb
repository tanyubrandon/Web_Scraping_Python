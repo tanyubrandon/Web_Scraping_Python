{
 "cells": [
  {
   "cell_type": "markdown",
   "id": "5df66a6e",
   "metadata": {},
   "source": [
    "# Set-Up and Work-Flow"
   ]
  },
  {
   "cell_type": "code",
   "execution_count": 1,
   "id": "4f977b4e",
   "metadata": {},
   "outputs": [],
   "source": [
    "import requests\n",
    "from bs4 import BeautifulSoup"
   ]
  },
  {
   "cell_type": "markdown",
   "id": "c43a96b7",
   "metadata": {},
   "source": [
    "# Get Request."
   ]
  },
  {
   "cell_type": "code",
   "execution_count": 3,
   "id": "4885e360",
   "metadata": {},
   "outputs": [],
   "source": [
    "base_site = \"https://en.wikipedia.org/wiki/Music\"\n",
    "\n",
    "response = requests.get(base_site)"
   ]
  },
  {
   "cell_type": "code",
   "execution_count": 19,
   "id": "a4153c97",
   "metadata": {},
   "outputs": [
    {
     "data": {
      "text/plain": [
       "b'<!DOCTYPE html>\\n<html class=\"client-nojs\" lang=\"en\" dir=\"ltr\">\\n<head>\\n<meta charset=\"UTF-8\"/>\\n<title'"
      ]
     },
     "execution_count": 19,
     "metadata": {},
     "output_type": "execute_result"
    }
   ],
   "source": [
    "html = response.content\n",
    "\n",
    "html[:100]"
   ]
  },
  {
   "cell_type": "markdown",
   "id": "4b8efc9c",
   "metadata": {},
   "source": [
    "# Choosing a parser for text Spliting"
   ]
  },
  {
   "cell_type": "code",
   "execution_count": 21,
   "id": "5eb852a0",
   "metadata": {},
   "outputs": [],
   "source": [
    "soup = BeautifulSoup(html,\"html.parser\")"
   ]
  },
  {
   "cell_type": "code",
   "execution_count": null,
   "id": "7c61fe78",
   "metadata": {},
   "outputs": [],
   "source": []
  }
 ],
 "metadata": {
  "kernelspec": {
   "display_name": "Python 3 (ipykernel)",
   "language": "python",
   "name": "python3"
  },
  "language_info": {
   "codemirror_mode": {
    "name": "ipython",
    "version": 3
   },
   "file_extension": ".py",
   "mimetype": "text/x-python",
   "name": "python",
   "nbconvert_exporter": "python",
   "pygments_lexer": "ipython3",
   "version": "3.9.12"
  }
 },
 "nbformat": 4,
 "nbformat_minor": 5
}
