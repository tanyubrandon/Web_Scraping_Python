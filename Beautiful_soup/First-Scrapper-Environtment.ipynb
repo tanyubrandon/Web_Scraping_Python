{
 "cells": [
  {
   "cell_type": "markdown",
   "id": "0dcf0cfa",
   "metadata": {},
   "source": [
    "# Set-Up and Work-Flow"
   ]
  },
  {
   "cell_type": "code",
   "execution_count": 1,
   "id": "740566bf",
   "metadata": {},
   "outputs": [],
   "source": [
    "import requests\n",
    "from bs4 import BeautifulSoup"
   ]
  },
  {
   "cell_type": "markdown",
   "id": "d5b33a8f",
   "metadata": {},
   "source": [
    "# Get Request."
   ]
  },
  {
   "cell_type": "code",
   "execution_count": 3,
   "id": "6c9d0b7f",
   "metadata": {},
   "outputs": [],
   "source": [
    "base_site = \"https://en.wikipedia.org/wiki/Music\"\n",
    "\n",
    "response = requests.get(base_site)"
   ]
  },
  {
   "cell_type": "code",
   "execution_count": 25,
   "id": "469ea13c",
   "metadata": {},
   "outputs": [],
   "source": [
    "html = response.content\n"
   ]
  },
  {
   "cell_type": "markdown",
   "id": "8507ba2b",
   "metadata": {},
   "source": [
    "# Choosing a parser for text Spliting"
   ]
  },
  {
   "cell_type": "code",
   "execution_count": 21,
   "id": "fd86c217",
   "metadata": {},
   "outputs": [],
   "source": [
    "soup = BeautifulSoup(html,\"html.parser\")"
   ]
  },
  {
   "cell_type": "markdown",
   "id": "88ea755b",
   "metadata": {},
   "source": [
    "# Exporting the Html to a file"
   ]
  },
  {
   "cell_type": "code",
   "execution_count": 26,
   "id": "31937b86",
   "metadata": {},
   "outputs": [],
   "source": [
    "with open('Wiki_response.html', 'wb') as file:\n",
    "    file.write(soup.prettify('utf-8'))"
   ]
  },
  {
   "cell_type": "code",
   "execution_count": null,
   "id": "81d7c478",
   "metadata": {},
   "outputs": [],
   "source": []
  }
 ],
 "metadata": {
  "kernelspec": {
   "display_name": "Python 3 (ipykernel)",
   "language": "python",
   "name": "python3"
  },
  "language_info": {
   "codemirror_mode": {
    "name": "ipython",
    "version": 3
   },
   "file_extension": ".py",
   "mimetype": "text/x-python",
   "name": "python",
   "nbconvert_exporter": "python",
   "pygments_lexer": "ipython3",
   "version": "3.9.12"
  }
 },
 "nbformat": 4,
 "nbformat_minor": 5
}
