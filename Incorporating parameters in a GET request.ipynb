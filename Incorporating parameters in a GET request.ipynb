{
 "cells": [
  {
   "cell_type": "markdown",
   "metadata": {},
   "source": [
    "# Pulling data from public APIs (without registration) - GET request"
   ]
  },
  {
   "cell_type": "code",
   "execution_count": 31,
   "metadata": {},
   "outputs": [],
   "source": [
    "# loading the packages\n",
    "# requests provides us with the capabilities of sending an HTTP request to a server\n",
    "import requests"
   ]
  },
  {
   "cell_type": "markdown",
   "metadata": {},
   "source": [
    "## Extracting data on currency exchange rates"
   ]
  },
  {
   "cell_type": "code",
   "execution_count": 32,
   "metadata": {},
   "outputs": [],
   "source": [
    "# We will use an API containing currency exchange rates as published by the European Central Bank\n",
    "# Documentation at https://exchangeratesapi.io"
   ]
  },
  {
   "cell_type": "markdown",
   "metadata": {},
   "source": [
    "### Sending a GET request"
   ]
  },
  {
   "cell_type": "code",
   "execution_count": 33,
   "metadata": {},
   "outputs": [],
   "source": [
    "# Define the base URL\n",
    "# Base URL: the part of the URL common to all requests, not containing the parameters\n",
    "base_url = \"https://api.exchangerate.host/latest\""
   ]
  },
  {
   "cell_type": "code",
   "execution_count": 34,
   "metadata": {},
   "outputs": [],
   "source": [
    "# We can make a GET request to this API endpoint with requests.get\n",
    "response = requests.get(base_url)\n",
    "\n",
    "# This method returns the response from the server\n",
    "# We store this response in a variable for future processing"
   ]
  },
  {
   "cell_type": "markdown",
   "metadata": {},
   "source": [
    "### Investigating the response"
   ]
  },
  {
   "cell_type": "code",
   "execution_count": 35,
   "metadata": {},
   "outputs": [
    {
     "data": {
      "text/plain": [
       "True"
      ]
     },
     "execution_count": 35,
     "metadata": {},
     "output_type": "execute_result"
    }
   ],
   "source": [
    "# Checking if the request went through ok\n",
    "response.ok"
   ]
  },
  {
   "cell_type": "code",
   "execution_count": 36,
   "metadata": {},
   "outputs": [
    {
     "data": {
      "text/plain": [
       "200"
      ]
     },
     "execution_count": 36,
     "metadata": {},
     "output_type": "execute_result"
    }
   ],
   "source": [
    "# Checking the status code of the response\n",
    "response.status_code"
   ]
  },
  {
   "cell_type": "code",
   "execution_count": 37,
   "metadata": {},
   "outputs": [
    {
     "data": {
      "text/plain": [
       "'{\"motd\":{\"msg\":\"If you or your company use this project or like what we doing, please consider backing us so we can continue maintaining and evolving this project.\",\"url\":\"https://exchangerate.host/#/donate\"},\"success\":true,\"base\":\"EUR\",\"date\":\"2022-11-17\",\"rates\":{\"AED\":3.809415,\"AFN\":92.189602,\"ALL\":116.740715,\"AMD\":411.661323,\"ANG\":1.875678,\"AOA\":525.793233,\"ARS\":168.475199,\"AUD\":1.547325,\"AWG\":1.867198,\"AZN\":1.763246,\"BAM\":1.954966,\"BBD\":2.074744,\"BDT\":107.053913,\"BGN\":1.9551,\"BHD\":0.391173,\"BIF\":2153.84623,\"BMD\":1.037126,\"BND\":1.424133,\"BOB\":7.192663,\"BRL\":5.599767,\"BSD\":1.036953,\"BTC\":0.000063,\"BTN\":84.583515,\"BWP\":13.448243,\"BYN\":2.628818,\"BZD\":2.09894,\"CAD\":1.386105,\"CDF\":2138.947047,\"CHF\":0.981709,\"CLF\":0.034777,\"CLP\":946.005462,\"CNH\":7.40494,\"CNY\":7.400507,\"COP\":5047.835673,\"CRC\":637.520727,\"CUC\":1.037322,\"CUP\":26.703541,\"CVE\":110.649172,\"CZK\":24.374442,\"DJF\":185.297103,\"DKK\":7.436647,\"DOP\":56.516696,\"DZD\":143.683362,\"EGP\":25.389014,\"ERN\":15.556022,\"ETB\":55.588553,\"EUR\":1,\"FJD\":2.310364,\"FKP\":0.871961,\"GBP\":0.872062,\"GEL\":2.826539,\"GGP\":0.872673,\"GHS\":15.092518,\"GIP\":0.872113,\"GMD\":63.880216,\"GNF\":8964.924305,\"GTQ\":8.124844,\"GYD\":217.76249,\"HKD\":8.117518,\"HNL\":25.723725,\"HRK\":7.544515,\"HTG\":142.179801,\"HUF\":410.082111,\"IDR\":16282.461652,\"ILS\":3.559915,\"IMP\":0.872689,\"INR\":84.592051,\"IQD\":1519.173906,\"IRR\":43968.859324,\"ISK\":148.861685,\"JEP\":0.872026,\"JMD\":160.093708,\"JOD\":0.735245,\"JPY\":144.699484,\"KES\":126.981477,\"KGS\":87.184583,\"KHR\":4313.383469,\"KMF\":493.094962,\"KPW\":933.301236,\"KRW\":1391.080823,\"KWD\":0.319577,\"KYD\":0.868689,\"KZT\":478.754722,\"LAK\":17998.035658,\"LBP\":1573.765916,\"LKR\":382.513548,\"LRD\":159.439694,\"LSL\":17.937132,\"LYD\":5.099949,\"MAD\":11.104059,\"MDL\":19.933026,\"MGA\":4497.528034,\"MKD\":61.568119,\"MMK\":2185.817217,\"MNT\":3533.028245,\"MOP\":8.388676,\"MRU\":39.439213,\"MUR\":45.318948,\"MVR\":15.985777,\"MWK\":1068.33916,\"MXN\":20.072181,\"MYR\":4.720049,\"MZN\":66.264981,\"NAD\":17.920698,\"NGN\":458.505927,\"NIO\":37.466988,\"NOK\":10.417154,\"NPR\":135.331344,\"NZD\":1.693005,\"OMR\":0.39964,\"PAB\":1.037119,\"PEN\":3.982313,\"PGK\":3.667534,\"PHP\":59.658304,\"PKR\":231.329621,\"PLN\":4.697797,\"PYG\":7384.714818,\"QAR\":3.776497,\"RON\":4.919128,\"RSD\":117.229632,\"RUB\":62.702296,\"RWF\":1110.588612,\"SAR\":3.898609,\"SBD\":8.525686,\"SCR\":13.65144,\"SDG\":589.536159,\"SEK\":10.905954,\"SGD\":1.423843,\"SHP\":0.872324,\"SLL\":18318.630336,\"SOS\":591.736394,\"SRD\":31.432271,\"SSP\":135.080421,\"STD\":23668.510348,\"STN\":24.836755,\"SVC\":9.107396,\"SYP\":2605.497677,\"SZL\":17.933842,\"THB\":37.213348,\"TJS\":10.512662,\"TMT\":3.629282,\"TND\":3.325956,\"TOP\":2.457333,\"TRY\":19.305165,\"TTD\":7.068832,\"TWD\":32.306218,\"TZS\":2418.28794,\"UAH\":38.388282,\"UGX\":3903.275048,\"USD\":1.037368,\"UYU\":41.198641,\"UZS\":11641.901071,\"VES\":9.818386,\"VND\":25719.282208,\"VUV\":126.782941,\"WST\":2.897526,\"XAF\":655.79982,\"XAG\":0.049199,\"XAU\":0.00191,\"XCD\":2.803216,\"XDR\":0.772053,\"XOF\":655.800508,\"XPD\":0.001869,\"XPF\":119.303671,\"XPT\":0.001562,\"YER\":259.510224,\"ZAR\":17.967357,\"ZMW\":17.236334,\"ZWL\":333.915163}}'"
      ]
     },
     "execution_count": 37,
     "metadata": {},
     "output_type": "execute_result"
    }
   ],
   "source": [
    "# Inspecting the content body of the response (as a regular 'string')\n",
    "response.text"
   ]
  },
  {
   "cell_type": "code",
   "execution_count": 38,
   "metadata": {},
   "outputs": [
    {
     "data": {
      "text/plain": [
       "b'{\"motd\":{\"msg\":\"If you or your company use this project or like what we doing, please consider backing us so we can continue maintaining and evolving this project.\",\"url\":\"https://exchangerate.host/#/donate\"},\"success\":true,\"base\":\"EUR\",\"date\":\"2022-11-17\",\"rates\":{\"AED\":3.809415,\"AFN\":92.189602,\"ALL\":116.740715,\"AMD\":411.661323,\"ANG\":1.875678,\"AOA\":525.793233,\"ARS\":168.475199,\"AUD\":1.547325,\"AWG\":1.867198,\"AZN\":1.763246,\"BAM\":1.954966,\"BBD\":2.074744,\"BDT\":107.053913,\"BGN\":1.9551,\"BHD\":0.391173,\"BIF\":2153.84623,\"BMD\":1.037126,\"BND\":1.424133,\"BOB\":7.192663,\"BRL\":5.599767,\"BSD\":1.036953,\"BTC\":0.000063,\"BTN\":84.583515,\"BWP\":13.448243,\"BYN\":2.628818,\"BZD\":2.09894,\"CAD\":1.386105,\"CDF\":2138.947047,\"CHF\":0.981709,\"CLF\":0.034777,\"CLP\":946.005462,\"CNH\":7.40494,\"CNY\":7.400507,\"COP\":5047.835673,\"CRC\":637.520727,\"CUC\":1.037322,\"CUP\":26.703541,\"CVE\":110.649172,\"CZK\":24.374442,\"DJF\":185.297103,\"DKK\":7.436647,\"DOP\":56.516696,\"DZD\":143.683362,\"EGP\":25.389014,\"ERN\":15.556022,\"ETB\":55.588553,\"EUR\":1,\"FJD\":2.310364,\"FKP\":0.871961,\"GBP\":0.872062,\"GEL\":2.826539,\"GGP\":0.872673,\"GHS\":15.092518,\"GIP\":0.872113,\"GMD\":63.880216,\"GNF\":8964.924305,\"GTQ\":8.124844,\"GYD\":217.76249,\"HKD\":8.117518,\"HNL\":25.723725,\"HRK\":7.544515,\"HTG\":142.179801,\"HUF\":410.082111,\"IDR\":16282.461652,\"ILS\":3.559915,\"IMP\":0.872689,\"INR\":84.592051,\"IQD\":1519.173906,\"IRR\":43968.859324,\"ISK\":148.861685,\"JEP\":0.872026,\"JMD\":160.093708,\"JOD\":0.735245,\"JPY\":144.699484,\"KES\":126.981477,\"KGS\":87.184583,\"KHR\":4313.383469,\"KMF\":493.094962,\"KPW\":933.301236,\"KRW\":1391.080823,\"KWD\":0.319577,\"KYD\":0.868689,\"KZT\":478.754722,\"LAK\":17998.035658,\"LBP\":1573.765916,\"LKR\":382.513548,\"LRD\":159.439694,\"LSL\":17.937132,\"LYD\":5.099949,\"MAD\":11.104059,\"MDL\":19.933026,\"MGA\":4497.528034,\"MKD\":61.568119,\"MMK\":2185.817217,\"MNT\":3533.028245,\"MOP\":8.388676,\"MRU\":39.439213,\"MUR\":45.318948,\"MVR\":15.985777,\"MWK\":1068.33916,\"MXN\":20.072181,\"MYR\":4.720049,\"MZN\":66.264981,\"NAD\":17.920698,\"NGN\":458.505927,\"NIO\":37.466988,\"NOK\":10.417154,\"NPR\":135.331344,\"NZD\":1.693005,\"OMR\":0.39964,\"PAB\":1.037119,\"PEN\":3.982313,\"PGK\":3.667534,\"PHP\":59.658304,\"PKR\":231.329621,\"PLN\":4.697797,\"PYG\":7384.714818,\"QAR\":3.776497,\"RON\":4.919128,\"RSD\":117.229632,\"RUB\":62.702296,\"RWF\":1110.588612,\"SAR\":3.898609,\"SBD\":8.525686,\"SCR\":13.65144,\"SDG\":589.536159,\"SEK\":10.905954,\"SGD\":1.423843,\"SHP\":0.872324,\"SLL\":18318.630336,\"SOS\":591.736394,\"SRD\":31.432271,\"SSP\":135.080421,\"STD\":23668.510348,\"STN\":24.836755,\"SVC\":9.107396,\"SYP\":2605.497677,\"SZL\":17.933842,\"THB\":37.213348,\"TJS\":10.512662,\"TMT\":3.629282,\"TND\":3.325956,\"TOP\":2.457333,\"TRY\":19.305165,\"TTD\":7.068832,\"TWD\":32.306218,\"TZS\":2418.28794,\"UAH\":38.388282,\"UGX\":3903.275048,\"USD\":1.037368,\"UYU\":41.198641,\"UZS\":11641.901071,\"VES\":9.818386,\"VND\":25719.282208,\"VUV\":126.782941,\"WST\":2.897526,\"XAF\":655.79982,\"XAG\":0.049199,\"XAU\":0.00191,\"XCD\":2.803216,\"XDR\":0.772053,\"XOF\":655.800508,\"XPD\":0.001869,\"XPF\":119.303671,\"XPT\":0.001562,\"YER\":259.510224,\"ZAR\":17.967357,\"ZMW\":17.236334,\"ZWL\":333.915163}}'"
      ]
     },
     "execution_count": 38,
     "metadata": {},
     "output_type": "execute_result"
    }
   ],
   "source": [
    "# Inspecting the content of the response (in 'bytes' format)\n",
    "response.content"
   ]
  },
  {
   "cell_type": "code",
   "execution_count": 39,
   "metadata": {},
   "outputs": [],
   "source": [
    "# The data is presented in JSON format"
   ]
  },
  {
   "cell_type": "markdown",
   "metadata": {},
   "source": [
    "### Handling the JSON"
   ]
  },
  {
   "cell_type": "code",
   "execution_count": 40,
   "metadata": {},
   "outputs": [
    {
     "data": {
      "text/plain": [
       "{'motd': {'msg': 'If you or your company use this project or like what we doing, please consider backing us so we can continue maintaining and evolving this project.',\n",
       "  'url': 'https://exchangerate.host/#/donate'},\n",
       " 'success': True,\n",
       " 'base': 'EUR',\n",
       " 'date': '2022-11-17',\n",
       " 'rates': {'AED': 3.809415,\n",
       "  'AFN': 92.189602,\n",
       "  'ALL': 116.740715,\n",
       "  'AMD': 411.661323,\n",
       "  'ANG': 1.875678,\n",
       "  'AOA': 525.793233,\n",
       "  'ARS': 168.475199,\n",
       "  'AUD': 1.547325,\n",
       "  'AWG': 1.867198,\n",
       "  'AZN': 1.763246,\n",
       "  'BAM': 1.954966,\n",
       "  'BBD': 2.074744,\n",
       "  'BDT': 107.053913,\n",
       "  'BGN': 1.9551,\n",
       "  'BHD': 0.391173,\n",
       "  'BIF': 2153.84623,\n",
       "  'BMD': 1.037126,\n",
       "  'BND': 1.424133,\n",
       "  'BOB': 7.192663,\n",
       "  'BRL': 5.599767,\n",
       "  'BSD': 1.036953,\n",
       "  'BTC': 6.3e-05,\n",
       "  'BTN': 84.583515,\n",
       "  'BWP': 13.448243,\n",
       "  'BYN': 2.628818,\n",
       "  'BZD': 2.09894,\n",
       "  'CAD': 1.386105,\n",
       "  'CDF': 2138.947047,\n",
       "  'CHF': 0.981709,\n",
       "  'CLF': 0.034777,\n",
       "  'CLP': 946.005462,\n",
       "  'CNH': 7.40494,\n",
       "  'CNY': 7.400507,\n",
       "  'COP': 5047.835673,\n",
       "  'CRC': 637.520727,\n",
       "  'CUC': 1.037322,\n",
       "  'CUP': 26.703541,\n",
       "  'CVE': 110.649172,\n",
       "  'CZK': 24.374442,\n",
       "  'DJF': 185.297103,\n",
       "  'DKK': 7.436647,\n",
       "  'DOP': 56.516696,\n",
       "  'DZD': 143.683362,\n",
       "  'EGP': 25.389014,\n",
       "  'ERN': 15.556022,\n",
       "  'ETB': 55.588553,\n",
       "  'EUR': 1,\n",
       "  'FJD': 2.310364,\n",
       "  'FKP': 0.871961,\n",
       "  'GBP': 0.872062,\n",
       "  'GEL': 2.826539,\n",
       "  'GGP': 0.872673,\n",
       "  'GHS': 15.092518,\n",
       "  'GIP': 0.872113,\n",
       "  'GMD': 63.880216,\n",
       "  'GNF': 8964.924305,\n",
       "  'GTQ': 8.124844,\n",
       "  'GYD': 217.76249,\n",
       "  'HKD': 8.117518,\n",
       "  'HNL': 25.723725,\n",
       "  'HRK': 7.544515,\n",
       "  'HTG': 142.179801,\n",
       "  'HUF': 410.082111,\n",
       "  'IDR': 16282.461652,\n",
       "  'ILS': 3.559915,\n",
       "  'IMP': 0.872689,\n",
       "  'INR': 84.592051,\n",
       "  'IQD': 1519.173906,\n",
       "  'IRR': 43968.859324,\n",
       "  'ISK': 148.861685,\n",
       "  'JEP': 0.872026,\n",
       "  'JMD': 160.093708,\n",
       "  'JOD': 0.735245,\n",
       "  'JPY': 144.699484,\n",
       "  'KES': 126.981477,\n",
       "  'KGS': 87.184583,\n",
       "  'KHR': 4313.383469,\n",
       "  'KMF': 493.094962,\n",
       "  'KPW': 933.301236,\n",
       "  'KRW': 1391.080823,\n",
       "  'KWD': 0.319577,\n",
       "  'KYD': 0.868689,\n",
       "  'KZT': 478.754722,\n",
       "  'LAK': 17998.035658,\n",
       "  'LBP': 1573.765916,\n",
       "  'LKR': 382.513548,\n",
       "  'LRD': 159.439694,\n",
       "  'LSL': 17.937132,\n",
       "  'LYD': 5.099949,\n",
       "  'MAD': 11.104059,\n",
       "  'MDL': 19.933026,\n",
       "  'MGA': 4497.528034,\n",
       "  'MKD': 61.568119,\n",
       "  'MMK': 2185.817217,\n",
       "  'MNT': 3533.028245,\n",
       "  'MOP': 8.388676,\n",
       "  'MRU': 39.439213,\n",
       "  'MUR': 45.318948,\n",
       "  'MVR': 15.985777,\n",
       "  'MWK': 1068.33916,\n",
       "  'MXN': 20.072181,\n",
       "  'MYR': 4.720049,\n",
       "  'MZN': 66.264981,\n",
       "  'NAD': 17.920698,\n",
       "  'NGN': 458.505927,\n",
       "  'NIO': 37.466988,\n",
       "  'NOK': 10.417154,\n",
       "  'NPR': 135.331344,\n",
       "  'NZD': 1.693005,\n",
       "  'OMR': 0.39964,\n",
       "  'PAB': 1.037119,\n",
       "  'PEN': 3.982313,\n",
       "  'PGK': 3.667534,\n",
       "  'PHP': 59.658304,\n",
       "  'PKR': 231.329621,\n",
       "  'PLN': 4.697797,\n",
       "  'PYG': 7384.714818,\n",
       "  'QAR': 3.776497,\n",
       "  'RON': 4.919128,\n",
       "  'RSD': 117.229632,\n",
       "  'RUB': 62.702296,\n",
       "  'RWF': 1110.588612,\n",
       "  'SAR': 3.898609,\n",
       "  'SBD': 8.525686,\n",
       "  'SCR': 13.65144,\n",
       "  'SDG': 589.536159,\n",
       "  'SEK': 10.905954,\n",
       "  'SGD': 1.423843,\n",
       "  'SHP': 0.872324,\n",
       "  'SLL': 18318.630336,\n",
       "  'SOS': 591.736394,\n",
       "  'SRD': 31.432271,\n",
       "  'SSP': 135.080421,\n",
       "  'STD': 23668.510348,\n",
       "  'STN': 24.836755,\n",
       "  'SVC': 9.107396,\n",
       "  'SYP': 2605.497677,\n",
       "  'SZL': 17.933842,\n",
       "  'THB': 37.213348,\n",
       "  'TJS': 10.512662,\n",
       "  'TMT': 3.629282,\n",
       "  'TND': 3.325956,\n",
       "  'TOP': 2.457333,\n",
       "  'TRY': 19.305165,\n",
       "  'TTD': 7.068832,\n",
       "  'TWD': 32.306218,\n",
       "  'TZS': 2418.28794,\n",
       "  'UAH': 38.388282,\n",
       "  'UGX': 3903.275048,\n",
       "  'USD': 1.037368,\n",
       "  'UYU': 41.198641,\n",
       "  'UZS': 11641.901071,\n",
       "  'VES': 9.818386,\n",
       "  'VND': 25719.282208,\n",
       "  'VUV': 126.782941,\n",
       "  'WST': 2.897526,\n",
       "  'XAF': 655.79982,\n",
       "  'XAG': 0.049199,\n",
       "  'XAU': 0.00191,\n",
       "  'XCD': 2.803216,\n",
       "  'XDR': 0.772053,\n",
       "  'XOF': 655.800508,\n",
       "  'XPD': 0.001869,\n",
       "  'XPF': 119.303671,\n",
       "  'XPT': 0.001562,\n",
       "  'YER': 259.510224,\n",
       "  'ZAR': 17.967357,\n",
       "  'ZMW': 17.236334,\n",
       "  'ZWL': 333.915163}}"
      ]
     },
     "execution_count": 40,
     "metadata": {},
     "output_type": "execute_result"
    }
   ],
   "source": [
    "# Requests has in-build method to directly convert the response to JSON format\n",
    "response.json()"
   ]
  },
  {
   "cell_type": "code",
   "execution_count": 41,
   "metadata": {},
   "outputs": [
    {
     "data": {
      "text/plain": [
       "dict"
      ]
     },
     "execution_count": 41,
     "metadata": {},
     "output_type": "execute_result"
    }
   ],
   "source": [
    "# In Python, this JSON is stored as a dictionary\n",
    "type(response.json())"
   ]
  },
  {
   "cell_type": "code",
   "execution_count": 42,
   "metadata": {},
   "outputs": [],
   "source": [
    "# A useful library for JSON manipulation and pretty print\n",
    "import json\n",
    "\n",
    "# It has two main methods:\n",
    "# .loads(), which creates a Python dictionary from a JSON format string (just as response.json() does)\n",
    "# .dumps(), which creates a JSON format string out of a Python dictionary "
   ]
  },
  {
   "cell_type": "code",
   "execution_count": 43,
   "metadata": {},
   "outputs": [
    {
     "data": {
      "text/plain": [
       "'{\\n    \"motd\": {\\n        \"msg\": \"If you or your company use this project or like what we doing, please consider backing us so we can continue maintaining and evolving this project.\",\\n        \"url\": \"https://exchangerate.host/#/donate\"\\n    },\\n    \"success\": true,\\n    \"base\": \"EUR\",\\n    \"date\": \"2022-11-17\",\\n    \"rates\": {\\n        \"AED\": 3.809415,\\n        \"AFN\": 92.189602,\\n        \"ALL\": 116.740715,\\n        \"AMD\": 411.661323,\\n        \"ANG\": 1.875678,\\n        \"AOA\": 525.793233,\\n        \"ARS\": 168.475199,\\n        \"AUD\": 1.547325,\\n        \"AWG\": 1.867198,\\n        \"AZN\": 1.763246,\\n        \"BAM\": 1.954966,\\n        \"BBD\": 2.074744,\\n        \"BDT\": 107.053913,\\n        \"BGN\": 1.9551,\\n        \"BHD\": 0.391173,\\n        \"BIF\": 2153.84623,\\n        \"BMD\": 1.037126,\\n        \"BND\": 1.424133,\\n        \"BOB\": 7.192663,\\n        \"BRL\": 5.599767,\\n        \"BSD\": 1.036953,\\n        \"BTC\": 6.3e-05,\\n        \"BTN\": 84.583515,\\n        \"BWP\": 13.448243,\\n        \"BYN\": 2.628818,\\n        \"BZD\": 2.09894,\\n        \"CAD\": 1.386105,\\n        \"CDF\": 2138.947047,\\n        \"CHF\": 0.981709,\\n        \"CLF\": 0.034777,\\n        \"CLP\": 946.005462,\\n        \"CNH\": 7.40494,\\n        \"CNY\": 7.400507,\\n        \"COP\": 5047.835673,\\n        \"CRC\": 637.520727,\\n        \"CUC\": 1.037322,\\n        \"CUP\": 26.703541,\\n        \"CVE\": 110.649172,\\n        \"CZK\": 24.374442,\\n        \"DJF\": 185.297103,\\n        \"DKK\": 7.436647,\\n        \"DOP\": 56.516696,\\n        \"DZD\": 143.683362,\\n        \"EGP\": 25.389014,\\n        \"ERN\": 15.556022,\\n        \"ETB\": 55.588553,\\n        \"EUR\": 1,\\n        \"FJD\": 2.310364,\\n        \"FKP\": 0.871961,\\n        \"GBP\": 0.872062,\\n        \"GEL\": 2.826539,\\n        \"GGP\": 0.872673,\\n        \"GHS\": 15.092518,\\n        \"GIP\": 0.872113,\\n        \"GMD\": 63.880216,\\n        \"GNF\": 8964.924305,\\n        \"GTQ\": 8.124844,\\n        \"GYD\": 217.76249,\\n        \"HKD\": 8.117518,\\n        \"HNL\": 25.723725,\\n        \"HRK\": 7.544515,\\n        \"HTG\": 142.179801,\\n        \"HUF\": 410.082111,\\n        \"IDR\": 16282.461652,\\n        \"ILS\": 3.559915,\\n        \"IMP\": 0.872689,\\n        \"INR\": 84.592051,\\n        \"IQD\": 1519.173906,\\n        \"IRR\": 43968.859324,\\n        \"ISK\": 148.861685,\\n        \"JEP\": 0.872026,\\n        \"JMD\": 160.093708,\\n        \"JOD\": 0.735245,\\n        \"JPY\": 144.699484,\\n        \"KES\": 126.981477,\\n        \"KGS\": 87.184583,\\n        \"KHR\": 4313.383469,\\n        \"KMF\": 493.094962,\\n        \"KPW\": 933.301236,\\n        \"KRW\": 1391.080823,\\n        \"KWD\": 0.319577,\\n        \"KYD\": 0.868689,\\n        \"KZT\": 478.754722,\\n        \"LAK\": 17998.035658,\\n        \"LBP\": 1573.765916,\\n        \"LKR\": 382.513548,\\n        \"LRD\": 159.439694,\\n        \"LSL\": 17.937132,\\n        \"LYD\": 5.099949,\\n        \"MAD\": 11.104059,\\n        \"MDL\": 19.933026,\\n        \"MGA\": 4497.528034,\\n        \"MKD\": 61.568119,\\n        \"MMK\": 2185.817217,\\n        \"MNT\": 3533.028245,\\n        \"MOP\": 8.388676,\\n        \"MRU\": 39.439213,\\n        \"MUR\": 45.318948,\\n        \"MVR\": 15.985777,\\n        \"MWK\": 1068.33916,\\n        \"MXN\": 20.072181,\\n        \"MYR\": 4.720049,\\n        \"MZN\": 66.264981,\\n        \"NAD\": 17.920698,\\n        \"NGN\": 458.505927,\\n        \"NIO\": 37.466988,\\n        \"NOK\": 10.417154,\\n        \"NPR\": 135.331344,\\n        \"NZD\": 1.693005,\\n        \"OMR\": 0.39964,\\n        \"PAB\": 1.037119,\\n        \"PEN\": 3.982313,\\n        \"PGK\": 3.667534,\\n        \"PHP\": 59.658304,\\n        \"PKR\": 231.329621,\\n        \"PLN\": 4.697797,\\n        \"PYG\": 7384.714818,\\n        \"QAR\": 3.776497,\\n        \"RON\": 4.919128,\\n        \"RSD\": 117.229632,\\n        \"RUB\": 62.702296,\\n        \"RWF\": 1110.588612,\\n        \"SAR\": 3.898609,\\n        \"SBD\": 8.525686,\\n        \"SCR\": 13.65144,\\n        \"SDG\": 589.536159,\\n        \"SEK\": 10.905954,\\n        \"SGD\": 1.423843,\\n        \"SHP\": 0.872324,\\n        \"SLL\": 18318.630336,\\n        \"SOS\": 591.736394,\\n        \"SRD\": 31.432271,\\n        \"SSP\": 135.080421,\\n        \"STD\": 23668.510348,\\n        \"STN\": 24.836755,\\n        \"SVC\": 9.107396,\\n        \"SYP\": 2605.497677,\\n        \"SZL\": 17.933842,\\n        \"THB\": 37.213348,\\n        \"TJS\": 10.512662,\\n        \"TMT\": 3.629282,\\n        \"TND\": 3.325956,\\n        \"TOP\": 2.457333,\\n        \"TRY\": 19.305165,\\n        \"TTD\": 7.068832,\\n        \"TWD\": 32.306218,\\n        \"TZS\": 2418.28794,\\n        \"UAH\": 38.388282,\\n        \"UGX\": 3903.275048,\\n        \"USD\": 1.037368,\\n        \"UYU\": 41.198641,\\n        \"UZS\": 11641.901071,\\n        \"VES\": 9.818386,\\n        \"VND\": 25719.282208,\\n        \"VUV\": 126.782941,\\n        \"WST\": 2.897526,\\n        \"XAF\": 655.79982,\\n        \"XAG\": 0.049199,\\n        \"XAU\": 0.00191,\\n        \"XCD\": 2.803216,\\n        \"XDR\": 0.772053,\\n        \"XOF\": 655.800508,\\n        \"XPD\": 0.001869,\\n        \"XPF\": 119.303671,\\n        \"XPT\": 0.001562,\\n        \"YER\": 259.510224,\\n        \"ZAR\": 17.967357,\\n        \"ZMW\": 17.236334,\\n        \"ZWL\": 333.915163\\n    }\\n}'"
      ]
     },
     "execution_count": 43,
     "metadata": {},
     "output_type": "execute_result"
    }
   ],
   "source": [
    "# .dumps() has options to make the string 'prettier', more readable\n",
    "# We can choose the number of spaces to be used as indentation\n",
    "json.dumps(response.json(), indent=4)"
   ]
  },
  {
   "cell_type": "code",
   "execution_count": 44,
   "metadata": {},
   "outputs": [
    {
     "name": "stdout",
     "output_type": "stream",
     "text": [
      "{\n",
      "    \"motd\": {\n",
      "        \"msg\": \"If you or your company use this project or like what we doing, please consider backing us so we can continue maintaining and evolving this project.\",\n",
      "        \"url\": \"https://exchangerate.host/#/donate\"\n",
      "    },\n",
      "    \"success\": true,\n",
      "    \"base\": \"EUR\",\n",
      "    \"date\": \"2022-11-17\",\n",
      "    \"rates\": {\n",
      "        \"AED\": 3.809415,\n",
      "        \"AFN\": 92.189602,\n",
      "        \"ALL\": 116.740715,\n",
      "        \"AMD\": 411.661323,\n",
      "        \"ANG\": 1.875678,\n",
      "        \"AOA\": 525.793233,\n",
      "        \"ARS\": 168.475199,\n",
      "        \"AUD\": 1.547325,\n",
      "        \"AWG\": 1.867198,\n",
      "        \"AZN\": 1.763246,\n",
      "        \"BAM\": 1.954966,\n",
      "        \"BBD\": 2.074744,\n",
      "        \"BDT\": 107.053913,\n",
      "        \"BGN\": 1.9551,\n",
      "        \"BHD\": 0.391173,\n",
      "        \"BIF\": 2153.84623,\n",
      "        \"BMD\": 1.037126,\n",
      "        \"BND\": 1.424133,\n",
      "        \"BOB\": 7.192663,\n",
      "        \"BRL\": 5.599767,\n",
      "        \"BSD\": 1.036953,\n",
      "        \"BTC\": 6.3e-05,\n",
      "        \"BTN\": 84.583515,\n",
      "        \"BWP\": 13.448243,\n",
      "        \"BYN\": 2.628818,\n",
      "        \"BZD\": 2.09894,\n",
      "        \"CAD\": 1.386105,\n",
      "        \"CDF\": 2138.947047,\n",
      "        \"CHF\": 0.981709,\n",
      "        \"CLF\": 0.034777,\n",
      "        \"CLP\": 946.005462,\n",
      "        \"CNH\": 7.40494,\n",
      "        \"CNY\": 7.400507,\n",
      "        \"COP\": 5047.835673,\n",
      "        \"CRC\": 637.520727,\n",
      "        \"CUC\": 1.037322,\n",
      "        \"CUP\": 26.703541,\n",
      "        \"CVE\": 110.649172,\n",
      "        \"CZK\": 24.374442,\n",
      "        \"DJF\": 185.297103,\n",
      "        \"DKK\": 7.436647,\n",
      "        \"DOP\": 56.516696,\n",
      "        \"DZD\": 143.683362,\n",
      "        \"EGP\": 25.389014,\n",
      "        \"ERN\": 15.556022,\n",
      "        \"ETB\": 55.588553,\n",
      "        \"EUR\": 1,\n",
      "        \"FJD\": 2.310364,\n",
      "        \"FKP\": 0.871961,\n",
      "        \"GBP\": 0.872062,\n",
      "        \"GEL\": 2.826539,\n",
      "        \"GGP\": 0.872673,\n",
      "        \"GHS\": 15.092518,\n",
      "        \"GIP\": 0.872113,\n",
      "        \"GMD\": 63.880216,\n",
      "        \"GNF\": 8964.924305,\n",
      "        \"GTQ\": 8.124844,\n",
      "        \"GYD\": 217.76249,\n",
      "        \"HKD\": 8.117518,\n",
      "        \"HNL\": 25.723725,\n",
      "        \"HRK\": 7.544515,\n",
      "        \"HTG\": 142.179801,\n",
      "        \"HUF\": 410.082111,\n",
      "        \"IDR\": 16282.461652,\n",
      "        \"ILS\": 3.559915,\n",
      "        \"IMP\": 0.872689,\n",
      "        \"INR\": 84.592051,\n",
      "        \"IQD\": 1519.173906,\n",
      "        \"IRR\": 43968.859324,\n",
      "        \"ISK\": 148.861685,\n",
      "        \"JEP\": 0.872026,\n",
      "        \"JMD\": 160.093708,\n",
      "        \"JOD\": 0.735245,\n",
      "        \"JPY\": 144.699484,\n",
      "        \"KES\": 126.981477,\n",
      "        \"KGS\": 87.184583,\n",
      "        \"KHR\": 4313.383469,\n",
      "        \"KMF\": 493.094962,\n",
      "        \"KPW\": 933.301236,\n",
      "        \"KRW\": 1391.080823,\n",
      "        \"KWD\": 0.319577,\n",
      "        \"KYD\": 0.868689,\n",
      "        \"KZT\": 478.754722,\n",
      "        \"LAK\": 17998.035658,\n",
      "        \"LBP\": 1573.765916,\n",
      "        \"LKR\": 382.513548,\n",
      "        \"LRD\": 159.439694,\n",
      "        \"LSL\": 17.937132,\n",
      "        \"LYD\": 5.099949,\n",
      "        \"MAD\": 11.104059,\n",
      "        \"MDL\": 19.933026,\n",
      "        \"MGA\": 4497.528034,\n",
      "        \"MKD\": 61.568119,\n",
      "        \"MMK\": 2185.817217,\n",
      "        \"MNT\": 3533.028245,\n",
      "        \"MOP\": 8.388676,\n",
      "        \"MRU\": 39.439213,\n",
      "        \"MUR\": 45.318948,\n",
      "        \"MVR\": 15.985777,\n",
      "        \"MWK\": 1068.33916,\n",
      "        \"MXN\": 20.072181,\n",
      "        \"MYR\": 4.720049,\n",
      "        \"MZN\": 66.264981,\n",
      "        \"NAD\": 17.920698,\n",
      "        \"NGN\": 458.505927,\n",
      "        \"NIO\": 37.466988,\n",
      "        \"NOK\": 10.417154,\n",
      "        \"NPR\": 135.331344,\n",
      "        \"NZD\": 1.693005,\n",
      "        \"OMR\": 0.39964,\n",
      "        \"PAB\": 1.037119,\n",
      "        \"PEN\": 3.982313,\n",
      "        \"PGK\": 3.667534,\n",
      "        \"PHP\": 59.658304,\n",
      "        \"PKR\": 231.329621,\n",
      "        \"PLN\": 4.697797,\n",
      "        \"PYG\": 7384.714818,\n",
      "        \"QAR\": 3.776497,\n",
      "        \"RON\": 4.919128,\n",
      "        \"RSD\": 117.229632,\n",
      "        \"RUB\": 62.702296,\n",
      "        \"RWF\": 1110.588612,\n",
      "        \"SAR\": 3.898609,\n",
      "        \"SBD\": 8.525686,\n",
      "        \"SCR\": 13.65144,\n",
      "        \"SDG\": 589.536159,\n",
      "        \"SEK\": 10.905954,\n",
      "        \"SGD\": 1.423843,\n",
      "        \"SHP\": 0.872324,\n",
      "        \"SLL\": 18318.630336,\n",
      "        \"SOS\": 591.736394,\n",
      "        \"SRD\": 31.432271,\n",
      "        \"SSP\": 135.080421,\n",
      "        \"STD\": 23668.510348,\n",
      "        \"STN\": 24.836755,\n",
      "        \"SVC\": 9.107396,\n",
      "        \"SYP\": 2605.497677,\n",
      "        \"SZL\": 17.933842,\n",
      "        \"THB\": 37.213348,\n",
      "        \"TJS\": 10.512662,\n",
      "        \"TMT\": 3.629282,\n",
      "        \"TND\": 3.325956,\n",
      "        \"TOP\": 2.457333,\n",
      "        \"TRY\": 19.305165,\n",
      "        \"TTD\": 7.068832,\n",
      "        \"TWD\": 32.306218,\n",
      "        \"TZS\": 2418.28794,\n",
      "        \"UAH\": 38.388282,\n",
      "        \"UGX\": 3903.275048,\n",
      "        \"USD\": 1.037368,\n",
      "        \"UYU\": 41.198641,\n",
      "        \"UZS\": 11641.901071,\n",
      "        \"VES\": 9.818386,\n",
      "        \"VND\": 25719.282208,\n",
      "        \"VUV\": 126.782941,\n",
      "        \"WST\": 2.897526,\n",
      "        \"XAF\": 655.79982,\n",
      "        \"XAG\": 0.049199,\n",
      "        \"XAU\": 0.00191,\n",
      "        \"XCD\": 2.803216,\n",
      "        \"XDR\": 0.772053,\n",
      "        \"XOF\": 655.800508,\n",
      "        \"XPD\": 0.001869,\n",
      "        \"XPF\": 119.303671,\n",
      "        \"XPT\": 0.001562,\n",
      "        \"YER\": 259.510224,\n",
      "        \"ZAR\": 17.967357,\n",
      "        \"ZMW\": 17.236334,\n",
      "        \"ZWL\": 333.915163\n",
      "    }\n",
      "}\n"
     ]
    }
   ],
   "source": [
    "# In order to visualize these changes, we need to print the string\n",
    "print(json.dumps(response.json(), indent=4))"
   ]
  },
  {
   "cell_type": "code",
   "execution_count": 45,
   "metadata": {},
   "outputs": [
    {
     "data": {
      "text/plain": [
       "dict_keys(['motd', 'success', 'base', 'date', 'rates'])"
      ]
     },
     "execution_count": 45,
     "metadata": {},
     "output_type": "execute_result"
    }
   ],
   "source": [
    "# It contains 3 keys; the value for the 'rates' key is another dictionary\n",
    "response.json().keys()"
   ]
  },
  {
   "cell_type": "markdown",
   "metadata": {},
   "source": [
    "### Incorporating parameters in the GET request"
   ]
  },
  {
   "cell_type": "code",
   "execution_count": 46,
   "metadata": {},
   "outputs": [
    {
     "data": {
      "text/plain": [
       "'https://api.exchangerate.host/latest?symbols=USD,GBP'"
      ]
     },
     "execution_count": 46,
     "metadata": {},
     "output_type": "execute_result"
    }
   ],
   "source": [
    "# Request parameters are added to the URL after a question mark '?'\n",
    "# In this case, we request for the exchange rates of the US Dollar (USD) and Pound Sterling (GBP) only\n",
    "param_url = base_url + \"?symbols=USD,GBP\"\n",
    "param_url"
   ]
  },
  {
   "cell_type": "code",
   "execution_count": 47,
   "metadata": {},
   "outputs": [
    {
     "data": {
      "text/plain": [
       "200"
      ]
     },
     "execution_count": 47,
     "metadata": {},
     "output_type": "execute_result"
    }
   ],
   "source": [
    "# Making a request to the server with the new URL, containing the parameters\n",
    "response = requests.get(param_url)\n",
    "response.status_code"
   ]
  },
  {
   "cell_type": "code",
   "execution_count": 48,
   "metadata": {},
   "outputs": [
    {
     "data": {
      "text/plain": [
       "{'motd': {'msg': 'If you or your company use this project or like what we doing, please consider backing us so we can continue maintaining and evolving this project.',\n",
       "  'url': 'https://exchangerate.host/#/donate'},\n",
       " 'success': True,\n",
       " 'base': 'EUR',\n",
       " 'date': '2022-11-17',\n",
       " 'rates': {'GBP': 0.872062, 'USD': 1.037368}}"
      ]
     },
     "execution_count": 48,
     "metadata": {},
     "output_type": "execute_result"
    }
   ],
   "source": [
    "# Saving the response data\n",
    "data = response.json()\n",
    "data"
   ]
  },
  {
   "cell_type": "code",
   "execution_count": 49,
   "metadata": {},
   "outputs": [
    {
     "data": {
      "text/plain": [
       "'EUR'"
      ]
     },
     "execution_count": 49,
     "metadata": {},
     "output_type": "execute_result"
    }
   ],
   "source": [
    "# 'data' is a dictionary\n",
    "data['base']"
   ]
  },
  {
   "cell_type": "code",
   "execution_count": 50,
   "metadata": {},
   "outputs": [
    {
     "data": {
      "text/plain": [
       "'2022-11-17'"
      ]
     },
     "execution_count": 50,
     "metadata": {},
     "output_type": "execute_result"
    }
   ],
   "source": [
    "data['date']"
   ]
  },
  {
   "cell_type": "code",
   "execution_count": 51,
   "metadata": {},
   "outputs": [
    {
     "data": {
      "text/plain": [
       "{'GBP': 0.872062, 'USD': 1.037368}"
      ]
     },
     "execution_count": 51,
     "metadata": {},
     "output_type": "execute_result"
    }
   ],
   "source": [
    "data['rates']"
   ]
  },
  {
   "cell_type": "code",
   "execution_count": 52,
   "metadata": {},
   "outputs": [],
   "source": [
    "# As per the documentation of this API, we can change the base with the parameter 'base'\n",
    "param_url = base_url + \"?symbols=GBP&base=USD\""
   ]
  },
  {
   "cell_type": "code",
   "execution_count": 53,
   "metadata": {},
   "outputs": [
    {
     "data": {
      "text/plain": [
       "{'motd': {'msg': 'If you or your company use this project or like what we doing, please consider backing us so we can continue maintaining and evolving this project.',\n",
       "  'url': 'https://exchangerate.host/#/donate'},\n",
       " 'success': True,\n",
       " 'base': 'USD',\n",
       " 'date': '2022-11-17',\n",
       " 'rates': {'GBP': 0.840648}}"
      ]
     },
     "execution_count": 53,
     "metadata": {},
     "output_type": "execute_result"
    }
   ],
   "source": [
    "# Sending a request and saving the response JSON, all at once\n",
    "data = requests.get(param_url).json()\n",
    "data"
   ]
  },
  {
   "cell_type": "code",
   "execution_count": 54,
   "metadata": {},
   "outputs": [
    {
     "data": {
      "text/plain": [
       "0.840648"
      ]
     },
     "execution_count": 54,
     "metadata": {},
     "output_type": "execute_result"
    }
   ],
   "source": [
    "usd_to_gbp = data['rates']['GBP']\n",
    "usd_to_gbp"
   ]
  },
  {
   "cell_type": "code",
   "execution_count": null,
   "metadata": {},
   "outputs": [],
   "source": []
  },
  {
   "cell_type": "code",
   "execution_count": null,
   "metadata": {},
   "outputs": [],
   "source": []
  },
  {
   "cell_type": "code",
   "execution_count": null,
   "metadata": {},
   "outputs": [],
   "source": []
  }
 ],
 "metadata": {
  "kernelspec": {
   "display_name": "Python 3 (ipykernel)",
   "language": "python",
   "name": "python3"
  },
  "language_info": {
   "codemirror_mode": {
    "name": "ipython",
    "version": 3
   },
   "file_extension": ".py",
   "mimetype": "text/x-python",
   "name": "python",
   "nbconvert_exporter": "python",
   "pygments_lexer": "ipython3",
   "version": "3.9.12"
  }
 },
 "nbformat": 4,
 "nbformat_minor": 2
}
