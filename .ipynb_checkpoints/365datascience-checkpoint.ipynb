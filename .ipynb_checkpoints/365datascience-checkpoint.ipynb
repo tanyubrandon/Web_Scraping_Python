{
 "cells": [
  {
   "cell_type": "code",
   "execution_count": 9,
   "id": "c6c644fd",
   "metadata": {},
   "outputs": [],
   "source": [
    "base_url = \"https://api.exchangerate.host/latest\""
   ]
  },
  {
   "cell_type": "code",
   "execution_count": 10,
   "id": "cd9ad1cc",
   "metadata": {},
   "outputs": [
    {
     "data": {
      "text/plain": [
       "True"
      ]
     },
     "execution_count": 10,
     "metadata": {},
     "output_type": "execute_result"
    }
   ],
   "source": [
    "import requests\n",
    "\n",
    "response = requests.get(base_url)\n",
    "\n",
    "response.ok"
   ]
  },
  {
   "cell_type": "code",
   "execution_count": 11,
   "id": "e39d15b2",
   "metadata": {},
   "outputs": [
    {
     "data": {
      "text/plain": [
       "200"
      ]
     },
     "execution_count": 11,
     "metadata": {},
     "output_type": "execute_result"
    }
   ],
   "source": [
    "response.status_code"
   ]
  },
  {
   "cell_type": "markdown",
   "id": "9b6811f0",
   "metadata": {},
   "source": [
    "# Handling Jason"
   ]
  },
  {
   "cell_type": "code",
   "execution_count": 18,
   "id": "492886cd",
   "metadata": {},
   "outputs": [
    {
     "data": {
      "text/plain": [
       "{'motd': {'msg': 'If you or your company use this project or like what we doing, please consider backing us so we can continue maintaining and evolving this project.',\n",
       "  'url': 'https://exchangerate.host/#/donate'},\n",
       " 'success': True,\n",
       " 'base': 'EUR',\n",
       " 'date': '2022-01-10',\n",
       " 'rates': {'AED': 4.167972,\n",
       "  'AFN': 118.91123,\n",
       "  'ALL': 121.353306,\n",
       "  'AMD': 546.175542,\n",
       "  'ANG': 2.035384,\n",
       "  'AOA': 629.106987,\n",
       "  'ARS': 116.624363,\n",
       "  'AUD': 1.580224,\n",
       "  'AWG': 2.042846,\n",
       "  'AZN': 1.92923,\n",
       "  'BAM': 1.95468,\n",
       "  'BBD': 2.26981,\n",
       "  'BDT': 97.024176,\n",
       "  'BGN': 1.956957,\n",
       "  'BHD': 0.428175,\n",
       "  'BIF': 2257.462616,\n",
       "  'BMD': 1.134504,\n",
       "  'BND': 1.534691,\n",
       "  'BOB': 7.773946,\n",
       "  'BRL': 6.394753,\n",
       "  'BSD': 1.134916,\n",
       "  'BTC': 2.7e-05,\n",
       "  'BTN': 83.896824,\n",
       "  'BWP': 13.167125,\n",
       "  'BYN': 2.923555,\n",
       "  'BZD': 2.275872,\n",
       "  'CAD': 1.43548,\n",
       "  'CDF': 2267.574646,\n",
       "  'CHF': 1.042792,\n",
       "  'CLF': 0.034225,\n",
       "  'CLP': 941.616881,\n",
       "  'CNH': 7.241721,\n",
       "  'CNY': 7.236723,\n",
       "  'COP': 4557.975201,\n",
       "  'CRC': 725.044091,\n",
       "  'CUC': 1.134918,\n",
       "  'CUP': 29.21611,\n",
       "  'CVE': 110.625693,\n",
       "  'CZK': 24.482429,\n",
       "  'DJF': 201.13679,\n",
       "  'DKK': 7.434868,\n",
       "  'DOP': 64.901656,\n",
       "  'DZD': 158.280482,\n",
       "  'EGP': 17.843938,\n",
       "  'ERN': 17.020453,\n",
       "  'ETB': 55.999814,\n",
       "  'EUR': 1,\n",
       "  'FJD': 2.42404,\n",
       "  'FKP': 0.835406,\n",
       "  'GBP': 0.835125,\n",
       "  'GEL': 3.511961,\n",
       "  'GGP': 0.834768,\n",
       "  'GHS': 6.985239,\n",
       "  'GIP': 0.835308,\n",
       "  'GMD': 59.908167,\n",
       "  'GNF': 10310.325511,\n",
       "  'GTQ': 8.717436,\n",
       "  'GYD': 236.218513,\n",
       "  'HKD': 8.848006,\n",
       "  'HNL': 27.729492,\n",
       "  'HRK': 7.512075,\n",
       "  'HTG': 112.879664,\n",
       "  'HUF': 358.641436,\n",
       "  'IDR': 16275.841054,\n",
       "  'ILS': 3.533915,\n",
       "  'IMP': 0.834777,\n",
       "  'INR': 84.252624,\n",
       "  'IQD': 1649.604793,\n",
       "  'IRR': 47937.568235,\n",
       "  'ISK': 145.82329,\n",
       "  'JEP': 0.835189,\n",
       "  'JMD': 174.364535,\n",
       "  'JOD': 0.805272,\n",
       "  'JPY': 131.218037,\n",
       "  'KES': 128.036507,\n",
       "  'KGS': 96.217604,\n",
       "  'KHR': 4605.389136,\n",
       "  'KMF': 491.857347,\n",
       "  'KPW': 1021.155366,\n",
       "  'KRW': 1358.860035,\n",
       "  'KWD': 0.344389,\n",
       "  'KYD': 0.940791,\n",
       "  'KZT': 491.643437,\n",
       "  'LAK': 12716.408742,\n",
       "  'LBP': 1709.471314,\n",
       "  'LKR': 229.055318,\n",
       "  'LRD': 166.931518,\n",
       "  'LSL': 17.691203,\n",
       "  'LYD': 5.197975,\n",
       "  'MAD': 10.488441,\n",
       "  'MDL': 20.255297,\n",
       "  'MGA': 4490.077245,\n",
       "  'MKD': 61.539878,\n",
       "  'MMK': 2007.438252,\n",
       "  'MNT': 3245.768352,\n",
       "  'MOP': 9.070968,\n",
       "  'MRU': 41.206654,\n",
       "  'MUR': 49.586305,\n",
       "  'MVR': 17.530481,\n",
       "  'MWK': 922.912667,\n",
       "  'MXN': 23.13343,\n",
       "  'MYR': 4.776445,\n",
       "  'MZN': 72.436403,\n",
       "  'NAD': 17.740199,\n",
       "  'NGN': 466.297669,\n",
       "  'NIO': 40.087681,\n",
       "  'NOK': 10.032973,\n",
       "  'NPR': 134.234345,\n",
       "  'NZD': 1.675945,\n",
       "  'OMR': 0.43711,\n",
       "  'PAB': 1.13529,\n",
       "  'PEN': 4.483399,\n",
       "  'PGK': 3.974516,\n",
       "  'PHP': 58.23784,\n",
       "  'PKR': 199.676707,\n",
       "  'PLN': 4.543837,\n",
       "  'PYG': 7851.52161,\n",
       "  'QAR': 4.128111,\n",
       "  'RON': 4.942597,\n",
       "  'RSD': 117.434489,\n",
       "  'RUB': 85.713452,\n",
       "  'RWF': 1167.794699,\n",
       "  'SAR': 4.260263,\n",
       "  'SBD': 9.177253,\n",
       "  'SCR': 16.044365,\n",
       "  'SDG': 496.394981,\n",
       "  'SEK': 10.28587,\n",
       "  'SGD': 1.539941,\n",
       "  'SHP': 0.835267,\n",
       "  'SLL': 12846.701445,\n",
       "  'SOS': 656.962221,\n",
       "  'SRD': 24.125055,\n",
       "  'SSP': 147.796374,\n",
       "  'STD': 24016.370008,\n",
       "  'STN': 24.7925,\n",
       "  'SVC': 9.879232,\n",
       "  'SYP': 2850.726178,\n",
       "  'SZL': 17.656436,\n",
       "  'THB': 38.148614,\n",
       "  'TJS': 12.752358,\n",
       "  'TMT': 3.971961,\n",
       "  'TND': 3.269203,\n",
       "  'TOP': 2.593164,\n",
       "  'TRY': 15.652978,\n",
       "  'TTD': 7.663484,\n",
       "  'TWD': 31.337263,\n",
       "  'TZS': 2608.405795,\n",
       "  'UAH': 31.044271,\n",
       "  'UGX': 4002.460722,\n",
       "  'USD': 1.134921,\n",
       "  'UYU': 50.621499,\n",
       "  'UZS': 12224.293542,\n",
       "  'VES': 5.253942,\n",
       "  'VND': 25745.791801,\n",
       "  'VUV': 128.423298,\n",
       "  'WST': 2.952009,\n",
       "  'XAF': 655.55191,\n",
       "  'XAG': 0.051731,\n",
       "  'XAU': 0.001331,\n",
       "  'XCD': 3.066625,\n",
       "  'XDR': 0.808399,\n",
       "  'XOF': 655.551372,\n",
       "  'XPD': 0.00198,\n",
       "  'XPF': 119.258701,\n",
       "  'XPT': 0.001161,\n",
       "  'YER': 283.938949,\n",
       "  'ZAR': 17.674907,\n",
       "  'ZMW': 19.030663,\n",
       "  'ZWL': 365.34784}}"
      ]
     },
     "execution_count": 18,
     "metadata": {},
     "output_type": "execute_result"
    }
   ],
   "source": [
    "response.json()\n"
   ]
  },
  {
   "cell_type": "code",
   "execution_count": 19,
   "id": "3857c34c",
   "metadata": {},
   "outputs": [
    {
     "data": {
      "text/plain": [
       "dict"
      ]
     },
     "execution_count": 19,
     "metadata": {},
     "output_type": "execute_result"
    }
   ],
   "source": [
    "type(response.json())"
   ]
  },
  {
   "cell_type": "code",
   "execution_count": 20,
   "id": "b510d158",
   "metadata": {},
   "outputs": [],
   "source": [
    "import json"
   ]
  },
  {
   "cell_type": "code",
   "execution_count": 21,
   "id": "3316e32c",
   "metadata": {},
   "outputs": [
    {
     "data": {
      "text/plain": [
       "'{\\n  \"motd\": {\\n    \"msg\": \"If you or your company use this project or like what we doing, please consider backing us so we can continue maintaining and evolving this project.\",\\n    \"url\": \"https://exchangerate.host/#/donate\"\\n  },\\n  \"success\": true,\\n  \"base\": \"EUR\",\\n  \"date\": \"2022-01-10\",\\n  \"rates\": {\\n    \"AED\": 4.167972,\\n    \"AFN\": 118.91123,\\n    \"ALL\": 121.353306,\\n    \"AMD\": 546.175542,\\n    \"ANG\": 2.035384,\\n    \"AOA\": 629.106987,\\n    \"ARS\": 116.624363,\\n    \"AUD\": 1.580224,\\n    \"AWG\": 2.042846,\\n    \"AZN\": 1.92923,\\n    \"BAM\": 1.95468,\\n    \"BBD\": 2.26981,\\n    \"BDT\": 97.024176,\\n    \"BGN\": 1.956957,\\n    \"BHD\": 0.428175,\\n    \"BIF\": 2257.462616,\\n    \"BMD\": 1.134504,\\n    \"BND\": 1.534691,\\n    \"BOB\": 7.773946,\\n    \"BRL\": 6.394753,\\n    \"BSD\": 1.134916,\\n    \"BTC\": 2.7e-05,\\n    \"BTN\": 83.896824,\\n    \"BWP\": 13.167125,\\n    \"BYN\": 2.923555,\\n    \"BZD\": 2.275872,\\n    \"CAD\": 1.43548,\\n    \"CDF\": 2267.574646,\\n    \"CHF\": 1.042792,\\n    \"CLF\": 0.034225,\\n    \"CLP\": 941.616881,\\n    \"CNH\": 7.241721,\\n    \"CNY\": 7.236723,\\n    \"COP\": 4557.975201,\\n    \"CRC\": 725.044091,\\n    \"CUC\": 1.134918,\\n    \"CUP\": 29.21611,\\n    \"CVE\": 110.625693,\\n    \"CZK\": 24.482429,\\n    \"DJF\": 201.13679,\\n    \"DKK\": 7.434868,\\n    \"DOP\": 64.901656,\\n    \"DZD\": 158.280482,\\n    \"EGP\": 17.843938,\\n    \"ERN\": 17.020453,\\n    \"ETB\": 55.999814,\\n    \"EUR\": 1,\\n    \"FJD\": 2.42404,\\n    \"FKP\": 0.835406,\\n    \"GBP\": 0.835125,\\n    \"GEL\": 3.511961,\\n    \"GGP\": 0.834768,\\n    \"GHS\": 6.985239,\\n    \"GIP\": 0.835308,\\n    \"GMD\": 59.908167,\\n    \"GNF\": 10310.325511,\\n    \"GTQ\": 8.717436,\\n    \"GYD\": 236.218513,\\n    \"HKD\": 8.848006,\\n    \"HNL\": 27.729492,\\n    \"HRK\": 7.512075,\\n    \"HTG\": 112.879664,\\n    \"HUF\": 358.641436,\\n    \"IDR\": 16275.841054,\\n    \"ILS\": 3.533915,\\n    \"IMP\": 0.834777,\\n    \"INR\": 84.252624,\\n    \"IQD\": 1649.604793,\\n    \"IRR\": 47937.568235,\\n    \"ISK\": 145.82329,\\n    \"JEP\": 0.835189,\\n    \"JMD\": 174.364535,\\n    \"JOD\": 0.805272,\\n    \"JPY\": 131.218037,\\n    \"KES\": 128.036507,\\n    \"KGS\": 96.217604,\\n    \"KHR\": 4605.389136,\\n    \"KMF\": 491.857347,\\n    \"KPW\": 1021.155366,\\n    \"KRW\": 1358.860035,\\n    \"KWD\": 0.344389,\\n    \"KYD\": 0.940791,\\n    \"KZT\": 491.643437,\\n    \"LAK\": 12716.408742,\\n    \"LBP\": 1709.471314,\\n    \"LKR\": 229.055318,\\n    \"LRD\": 166.931518,\\n    \"LSL\": 17.691203,\\n    \"LYD\": 5.197975,\\n    \"MAD\": 10.488441,\\n    \"MDL\": 20.255297,\\n    \"MGA\": 4490.077245,\\n    \"MKD\": 61.539878,\\n    \"MMK\": 2007.438252,\\n    \"MNT\": 3245.768352,\\n    \"MOP\": 9.070968,\\n    \"MRU\": 41.206654,\\n    \"MUR\": 49.586305,\\n    \"MVR\": 17.530481,\\n    \"MWK\": 922.912667,\\n    \"MXN\": 23.13343,\\n    \"MYR\": 4.776445,\\n    \"MZN\": 72.436403,\\n    \"NAD\": 17.740199,\\n    \"NGN\": 466.297669,\\n    \"NIO\": 40.087681,\\n    \"NOK\": 10.032973,\\n    \"NPR\": 134.234345,\\n    \"NZD\": 1.675945,\\n    \"OMR\": 0.43711,\\n    \"PAB\": 1.13529,\\n    \"PEN\": 4.483399,\\n    \"PGK\": 3.974516,\\n    \"PHP\": 58.23784,\\n    \"PKR\": 199.676707,\\n    \"PLN\": 4.543837,\\n    \"PYG\": 7851.52161,\\n    \"QAR\": 4.128111,\\n    \"RON\": 4.942597,\\n    \"RSD\": 117.434489,\\n    \"RUB\": 85.713452,\\n    \"RWF\": 1167.794699,\\n    \"SAR\": 4.260263,\\n    \"SBD\": 9.177253,\\n    \"SCR\": 16.044365,\\n    \"SDG\": 496.394981,\\n    \"SEK\": 10.28587,\\n    \"SGD\": 1.539941,\\n    \"SHP\": 0.835267,\\n    \"SLL\": 12846.701445,\\n    \"SOS\": 656.962221,\\n    \"SRD\": 24.125055,\\n    \"SSP\": 147.796374,\\n    \"STD\": 24016.370008,\\n    \"STN\": 24.7925,\\n    \"SVC\": 9.879232,\\n    \"SYP\": 2850.726178,\\n    \"SZL\": 17.656436,\\n    \"THB\": 38.148614,\\n    \"TJS\": 12.752358,\\n    \"TMT\": 3.971961,\\n    \"TND\": 3.269203,\\n    \"TOP\": 2.593164,\\n    \"TRY\": 15.652978,\\n    \"TTD\": 7.663484,\\n    \"TWD\": 31.337263,\\n    \"TZS\": 2608.405795,\\n    \"UAH\": 31.044271,\\n    \"UGX\": 4002.460722,\\n    \"USD\": 1.134921,\\n    \"UYU\": 50.621499,\\n    \"UZS\": 12224.293542,\\n    \"VES\": 5.253942,\\n    \"VND\": 25745.791801,\\n    \"VUV\": 128.423298,\\n    \"WST\": 2.952009,\\n    \"XAF\": 655.55191,\\n    \"XAG\": 0.051731,\\n    \"XAU\": 0.001331,\\n    \"XCD\": 3.066625,\\n    \"XDR\": 0.808399,\\n    \"XOF\": 655.551372,\\n    \"XPD\": 0.00198,\\n    \"XPF\": 119.258701,\\n    \"XPT\": 0.001161,\\n    \"YER\": 283.938949,\\n    \"ZAR\": 17.674907,\\n    \"ZMW\": 19.030663,\\n    \"ZWL\": 365.34784\\n  }\\n}'"
      ]
     },
     "execution_count": 21,
     "metadata": {},
     "output_type": "execute_result"
    }
   ],
   "source": [
    "json.dumps(response.json(), indent = 2)"
   ]
  },
  {
   "cell_type": "code",
   "execution_count": 25,
   "id": "eaad5e2f",
   "metadata": {},
   "outputs": [
    {
     "name": "stdout",
     "output_type": "stream",
     "text": [
      "{\n",
      "      \"motd\": {\n",
      "            \"msg\": \"If you or your company use this project or like what we doing, please consider backing us so we can continue maintaining and evolving this project.\",\n",
      "            \"url\": \"https://exchangerate.host/#/donate\"\n",
      "      },\n",
      "      \"success\": true,\n",
      "      \"base\": \"EUR\",\n",
      "      \"date\": \"2022-01-10\",\n",
      "      \"rates\": {\n",
      "            \"AED\": 4.167972,\n",
      "            \"AFN\": 118.91123,\n",
      "            \"ALL\": 121.353306,\n",
      "            \"AMD\": 546.175542,\n",
      "            \"ANG\": 2.035384,\n",
      "            \"AOA\": 629.106987,\n",
      "            \"ARS\": 116.624363,\n",
      "            \"AUD\": 1.580224,\n",
      "            \"AWG\": 2.042846,\n",
      "            \"AZN\": 1.92923,\n",
      "            \"BAM\": 1.95468,\n",
      "            \"BBD\": 2.26981,\n",
      "            \"BDT\": 97.024176,\n",
      "            \"BGN\": 1.956957,\n",
      "            \"BHD\": 0.428175,\n",
      "            \"BIF\": 2257.462616,\n",
      "            \"BMD\": 1.134504,\n",
      "            \"BND\": 1.534691,\n",
      "            \"BOB\": 7.773946,\n",
      "            \"BRL\": 6.394753,\n",
      "            \"BSD\": 1.134916,\n",
      "            \"BTC\": 2.7e-05,\n",
      "            \"BTN\": 83.896824,\n",
      "            \"BWP\": 13.167125,\n",
      "            \"BYN\": 2.923555,\n",
      "            \"BZD\": 2.275872,\n",
      "            \"CAD\": 1.43548,\n",
      "            \"CDF\": 2267.574646,\n",
      "            \"CHF\": 1.042792,\n",
      "            \"CLF\": 0.034225,\n",
      "            \"CLP\": 941.616881,\n",
      "            \"CNH\": 7.241721,\n",
      "            \"CNY\": 7.236723,\n",
      "            \"COP\": 4557.975201,\n",
      "            \"CRC\": 725.044091,\n",
      "            \"CUC\": 1.134918,\n",
      "            \"CUP\": 29.21611,\n",
      "            \"CVE\": 110.625693,\n",
      "            \"CZK\": 24.482429,\n",
      "            \"DJF\": 201.13679,\n",
      "            \"DKK\": 7.434868,\n",
      "            \"DOP\": 64.901656,\n",
      "            \"DZD\": 158.280482,\n",
      "            \"EGP\": 17.843938,\n",
      "            \"ERN\": 17.020453,\n",
      "            \"ETB\": 55.999814,\n",
      "            \"EUR\": 1,\n",
      "            \"FJD\": 2.42404,\n",
      "            \"FKP\": 0.835406,\n",
      "            \"GBP\": 0.835125,\n",
      "            \"GEL\": 3.511961,\n",
      "            \"GGP\": 0.834768,\n",
      "            \"GHS\": 6.985239,\n",
      "            \"GIP\": 0.835308,\n",
      "            \"GMD\": 59.908167,\n",
      "            \"GNF\": 10310.325511,\n",
      "            \"GTQ\": 8.717436,\n",
      "            \"GYD\": 236.218513,\n",
      "            \"HKD\": 8.848006,\n",
      "            \"HNL\": 27.729492,\n",
      "            \"HRK\": 7.512075,\n",
      "            \"HTG\": 112.879664,\n",
      "            \"HUF\": 358.641436,\n",
      "            \"IDR\": 16275.841054,\n",
      "            \"ILS\": 3.533915,\n",
      "            \"IMP\": 0.834777,\n",
      "            \"INR\": 84.252624,\n",
      "            \"IQD\": 1649.604793,\n",
      "            \"IRR\": 47937.568235,\n",
      "            \"ISK\": 145.82329,\n",
      "            \"JEP\": 0.835189,\n",
      "            \"JMD\": 174.364535,\n",
      "            \"JOD\": 0.805272,\n",
      "            \"JPY\": 131.218037,\n",
      "            \"KES\": 128.036507,\n",
      "            \"KGS\": 96.217604,\n",
      "            \"KHR\": 4605.389136,\n",
      "            \"KMF\": 491.857347,\n",
      "            \"KPW\": 1021.155366,\n",
      "            \"KRW\": 1358.860035,\n",
      "            \"KWD\": 0.344389,\n",
      "            \"KYD\": 0.940791,\n",
      "            \"KZT\": 491.643437,\n",
      "            \"LAK\": 12716.408742,\n",
      "            \"LBP\": 1709.471314,\n",
      "            \"LKR\": 229.055318,\n",
      "            \"LRD\": 166.931518,\n",
      "            \"LSL\": 17.691203,\n",
      "            \"LYD\": 5.197975,\n",
      "            \"MAD\": 10.488441,\n",
      "            \"MDL\": 20.255297,\n",
      "            \"MGA\": 4490.077245,\n",
      "            \"MKD\": 61.539878,\n",
      "            \"MMK\": 2007.438252,\n",
      "            \"MNT\": 3245.768352,\n",
      "            \"MOP\": 9.070968,\n",
      "            \"MRU\": 41.206654,\n",
      "            \"MUR\": 49.586305,\n",
      "            \"MVR\": 17.530481,\n",
      "            \"MWK\": 922.912667,\n",
      "            \"MXN\": 23.13343,\n",
      "            \"MYR\": 4.776445,\n",
      "            \"MZN\": 72.436403,\n",
      "            \"NAD\": 17.740199,\n",
      "            \"NGN\": 466.297669,\n",
      "            \"NIO\": 40.087681,\n",
      "            \"NOK\": 10.032973,\n",
      "            \"NPR\": 134.234345,\n",
      "            \"NZD\": 1.675945,\n",
      "            \"OMR\": 0.43711,\n",
      "            \"PAB\": 1.13529,\n",
      "            \"PEN\": 4.483399,\n",
      "            \"PGK\": 3.974516,\n",
      "            \"PHP\": 58.23784,\n",
      "            \"PKR\": 199.676707,\n",
      "            \"PLN\": 4.543837,\n",
      "            \"PYG\": 7851.52161,\n",
      "            \"QAR\": 4.128111,\n",
      "            \"RON\": 4.942597,\n",
      "            \"RSD\": 117.434489,\n",
      "            \"RUB\": 85.713452,\n",
      "            \"RWF\": 1167.794699,\n",
      "            \"SAR\": 4.260263,\n",
      "            \"SBD\": 9.177253,\n",
      "            \"SCR\": 16.044365,\n",
      "            \"SDG\": 496.394981,\n",
      "            \"SEK\": 10.28587,\n",
      "            \"SGD\": 1.539941,\n",
      "            \"SHP\": 0.835267,\n",
      "            \"SLL\": 12846.701445,\n",
      "            \"SOS\": 656.962221,\n",
      "            \"SRD\": 24.125055,\n",
      "            \"SSP\": 147.796374,\n",
      "            \"STD\": 24016.370008,\n",
      "            \"STN\": 24.7925,\n",
      "            \"SVC\": 9.879232,\n",
      "            \"SYP\": 2850.726178,\n",
      "            \"SZL\": 17.656436,\n",
      "            \"THB\": 38.148614,\n",
      "            \"TJS\": 12.752358,\n",
      "            \"TMT\": 3.971961,\n",
      "            \"TND\": 3.269203,\n",
      "            \"TOP\": 2.593164,\n",
      "            \"TRY\": 15.652978,\n",
      "            \"TTD\": 7.663484,\n",
      "            \"TWD\": 31.337263,\n",
      "            \"TZS\": 2608.405795,\n",
      "            \"UAH\": 31.044271,\n",
      "            \"UGX\": 4002.460722,\n",
      "            \"USD\": 1.134921,\n",
      "            \"UYU\": 50.621499,\n",
      "            \"UZS\": 12224.293542,\n",
      "            \"VES\": 5.253942,\n",
      "            \"VND\": 25745.791801,\n",
      "            \"VUV\": 128.423298,\n",
      "            \"WST\": 2.952009,\n",
      "            \"XAF\": 655.55191,\n",
      "            \"XAG\": 0.051731,\n",
      "            \"XAU\": 0.001331,\n",
      "            \"XCD\": 3.066625,\n",
      "            \"XDR\": 0.808399,\n",
      "            \"XOF\": 655.551372,\n",
      "            \"XPD\": 0.00198,\n",
      "            \"XPF\": 119.258701,\n",
      "            \"XPT\": 0.001161,\n",
      "            \"YER\": 283.938949,\n",
      "            \"ZAR\": 17.674907,\n",
      "            \"ZMW\": 19.030663,\n",
      "            \"ZWL\": 365.34784\n",
      "      }\n",
      "}\n"
     ]
    }
   ],
   "source": [
    "print(json.dumps(response.json(), indent = 6))"
   ]
  },
  {
   "cell_type": "code",
   "execution_count": 31,
   "id": "7fc85246",
   "metadata": {},
   "outputs": [
    {
     "data": {
      "text/plain": [
       "dict_keys(['motd', 'success', 'base', 'date', 'rates'])"
      ]
     },
     "execution_count": 31,
     "metadata": {},
     "output_type": "execute_result"
    }
   ],
   "source": [
    "response.json().keys()\n",
    "           "
   ]
  },
  {
   "cell_type": "markdown",
   "id": "1cb80469",
   "metadata": {},
   "source": [
    "# Incoporating parameters in GET request"
   ]
  },
  {
   "cell_type": "code",
   "execution_count": 44,
   "id": "512f1fbd",
   "metadata": {},
   "outputs": [
    {
     "data": {
      "text/plain": [
       "'https://api.exchangerate.host/latest?symbols=USD,GBP'"
      ]
     },
     "execution_count": 44,
     "metadata": {},
     "output_type": "execute_result"
    }
   ],
   "source": [
    "param_url = base_url + \"?symbols=USD,GBP\"\n",
    "\n",
    "param_url"
   ]
  },
  {
   "cell_type": "code",
   "execution_count": 45,
   "id": "a6733feb",
   "metadata": {},
   "outputs": [
    {
     "data": {
      "text/plain": [
       "<Response [200]>"
      ]
     },
     "execution_count": 45,
     "metadata": {},
     "output_type": "execute_result"
    }
   ],
   "source": [
    "response  = requests.get(param_url)\n",
    "response"
   ]
  },
  {
   "cell_type": "code",
   "execution_count": 46,
   "id": "5be6ed83",
   "metadata": {},
   "outputs": [
    {
     "data": {
      "text/plain": [
       "{'motd': {'msg': 'If you or your company use this project or like what we doing, please consider backing us so we can continue maintaining and evolving this project.',\n",
       "  'url': 'https://exchangerate.host/#/donate'},\n",
       " 'success': True,\n",
       " 'base': 'EUR',\n",
       " 'date': '2022-11-17',\n",
       " 'rates': {'GBP': 0.872062, 'USD': 1.037368}}"
      ]
     },
     "execution_count": 46,
     "metadata": {},
     "output_type": "execute_result"
    }
   ],
   "source": [
    "data = response.json()\n",
    "data"
   ]
  },
  {
   "cell_type": "code",
   "execution_count": 47,
   "id": "06c9b67a",
   "metadata": {},
   "outputs": [
    {
     "data": {
      "text/plain": [
       "'EUR'"
      ]
     },
     "execution_count": 47,
     "metadata": {},
     "output_type": "execute_result"
    }
   ],
   "source": [
    "data[\"base\"]"
   ]
  },
  {
   "cell_type": "code",
   "execution_count": null,
   "id": "e387e021",
   "metadata": {},
   "outputs": [],
   "source": [
    "data[\"keysa\n",
    "     \"]"
   ]
  }
 ],
 "metadata": {
  "kernelspec": {
   "display_name": "Python 3 (ipykernel)",
   "language": "python",
   "name": "python3"
  },
  "language_info": {
   "codemirror_mode": {
    "name": "ipython",
    "version": 3
   },
   "file_extension": ".py",
   "mimetype": "text/x-python",
   "name": "python",
   "nbconvert_exporter": "python",
   "pygments_lexer": "ipython3",
   "version": "3.9.12"
  }
 },
 "nbformat": 4,
 "nbformat_minor": 5
}
